{
 "cells": [
  {
   "cell_type": "code",
   "execution_count": null,
   "id": "debf069e",
   "metadata": {},
   "outputs": [],
   "source": [
    "import cv2\n",
    "import mediapipe as mp\n",
    "import pandas as pd\n",
    "import numpy as np\n",
    "from tqdm import tqdm"
   ]
  },
  {
   "cell_type": "code",
   "execution_count": null,
   "id": "6af78cb5",
   "metadata": {},
   "outputs": [],
   "source": [
    "meta_data = pd.read_csv(\"Meta_Data.csv\")"
   ]
  },
  {
   "cell_type": "code",
   "execution_count": null,
   "id": "3879c99d",
   "metadata": {},
   "outputs": [],
   "source": [
    "meta_data['action'].value_counts(dropna=False)"
   ]
  },
  {
   "cell_type": "code",
   "execution_count": null,
   "id": "52a5c45f",
   "metadata": {},
   "outputs": [],
   "source": [
    "file_path = meta_data['file_path'].tolist()\n",
    "action = meta_data['action'].tolist()"
   ]
  },
  {
   "cell_type": "code",
   "execution_count": null,
   "id": "01575f69",
   "metadata": {},
   "outputs": [],
   "source": [
    "file_path"
   ]
  },
  {
   "cell_type": "code",
   "execution_count": null,
   "id": "4554b48d",
   "metadata": {},
   "outputs": [],
   "source": [
    "mp_hands = mp.solutions.hands # Holistic model\n",
    "mp_drawing = mp.solutions.drawing_utils # Drawing utilities\n",
    "mp_drawing_styles = mp.solutions.drawing_styles"
   ]
  },
  {
   "cell_type": "code",
   "execution_count": null,
   "id": "c322547a",
   "metadata": {},
   "outputs": [],
   "source": [
    "zero_list = [0] * 63\n",
    "\n",
    "#for file in tqdm(file_path[:1]):\n",
    "for file in tqdm(file_path):\n",
    "    \n",
    "    result = []\n",
    "    cap = cv2.VideoCapture( file )\n",
    "    \n",
    "    w = round(cap.get(cv2.CAP_PROP_FRAME_WIDTH))\n",
    "    h = round(cap.get(cv2.CAP_PROP_FRAME_HEIGHT))\n",
    "    fps = cap.get(cv2.CAP_PROP_FPS)\n",
    "    \n",
    "    with mp_hands.Hands( max_num_hands = 1,\n",
    "                        min_detection_confidence=0.5, \n",
    "                        min_tracking_confidence=0.5) as hands:\n",
    "        frame = 0\n",
    "        while True:\n",
    "            success, image = cap.read()\n",
    "\n",
    "            if success == False:\n",
    "                cap.release()\n",
    "                break\n",
    "            \n",
    "            frame = frame+1\n",
    "            \n",
    "            image = cv2.cvtColor(image, cv2.COLOR_BGR2RGB) # COLOR CONVERSION BGR 2 RGB\n",
    "            image.flags.writeable = False                  # Image is no longer writeable\n",
    "            results = hands.process(image)                 # Make prediction\n",
    "            image.flags.writeable = True                   # Image is now writeable \n",
    "            image = cv2.cvtColor(image, cv2.COLOR_RGB2BGR) # COLOR COVERSION RGB 2 BGR\n",
    "\n",
    "            if results.multi_hand_landmarks:\n",
    "                \n",
    "                one_frame_result = []\n",
    "                \n",
    "                for hand_landmarks in results.multi_hand_landmarks:\n",
    "                    for ids, landmrk in enumerate(hand_landmarks.landmark):\n",
    "                        #print(landmrk.x)\n",
    "                        one_frame_result.append( landmrk.x )\n",
    "                        one_frame_result.append( landmrk.y )\n",
    "                        one_frame_result.append( landmrk.z )\n",
    "                        \n",
    "                result.append( one_frame_result )\n",
    "                \n",
    "            else:\n",
    "                result.append( zero_list )\n",
    "                \n",
    "        a = pd.DataFrame(result)\n",
    "        csv_file_name = file.replace(\"mp4\" , \"csv\")\n",
    "        a.to_csv(csv_file_name , index=False)"
   ]
  },
  {
   "cell_type": "code",
   "execution_count": null,
   "id": "069c4113",
   "metadata": {},
   "outputs": [],
   "source": [
    "csv_file_list = []\n",
    "\n",
    "for file in file_path:\n",
    "    csv_file_list.append( file.replace(\"mp4\" , \"csv\") )"
   ]
  },
  {
   "cell_type": "code",
   "execution_count": null,
   "id": "fe3d1b51",
   "metadata": {},
   "outputs": [],
   "source": [
    "csv_file_list"
   ]
  },
  {
   "cell_type": "code",
   "execution_count": null,
   "id": "d551f406",
   "metadata": {},
   "outputs": [],
   "source": [
    "meta_data['csv_file_path'] = csv_file_list"
   ]
  },
  {
   "cell_type": "code",
   "execution_count": null,
   "id": "4976d10b",
   "metadata": {},
   "outputs": [],
   "source": [
    "meta_data"
   ]
  },
  {
   "cell_type": "code",
   "execution_count": null,
   "id": "0d149111",
   "metadata": {},
   "outputs": [],
   "source": [
    "meta_data.to_csv(\"Meta_Data_211229.csv\" , index=False)"
   ]
  },
  {
   "cell_type": "code",
   "execution_count": null,
   "id": "61a99963",
   "metadata": {},
   "outputs": [],
   "source": []
  }
 ],
 "metadata": {
  "kernelspec": {
   "display_name": "TF.2.5.0-GPU",
   "language": "python",
   "name": "tf.2.5.0-gpu"
  },
  "language_info": {
   "codemirror_mode": {
    "name": "ipython",
    "version": 3
   },
   "file_extension": ".py",
   "mimetype": "text/x-python",
   "name": "python",
   "nbconvert_exporter": "python",
   "pygments_lexer": "ipython3",
   "version": "3.9.5"
  }
 },
 "nbformat": 4,
 "nbformat_minor": 5
}
