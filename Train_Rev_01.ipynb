{
 "cells": [
  {
   "cell_type": "code",
   "execution_count": 23,
   "id": "ac13752d",
   "metadata": {},
   "outputs": [],
   "source": [
    "import numpy as np\n",
    "import pandas as pd\n",
    "import os\n",
    "import tensorflow as tf\n",
    "\n",
    "from sklearn.preprocessing import LabelEncoder \n",
    "from sklearn.model_selection import train_test_split\n",
    "from tensorflow.keras.utils import to_categorical\n",
    "from tensorflow.keras.models import Sequential\n",
    "from tensorflow.keras.layers import LSTM, Dense\n",
    "from tensorflow.keras.callbacks import TensorBoard , ModelCheckpoint"
   ]
  },
  {
   "cell_type": "code",
   "execution_count": 2,
   "id": "ff9fc322",
   "metadata": {},
   "outputs": [],
   "source": [
    "DATA_FRAMES_PER_DATA = 115"
   ]
  },
  {
   "cell_type": "code",
   "execution_count": 49,
   "id": "72517cc7",
   "metadata": {},
   "outputs": [],
   "source": [
    "def Define_Model():\n",
    "    model = Sequential()\n",
    "    model.add(LSTM(256, return_sequences=True, activation='relu', input_shape=(DATA_FRAMES_PER_DATA,63)))\n",
    "    model.add(LSTM(128, return_sequences=True, activation='relu'))\n",
    "    model.add(LSTM(64, return_sequences=False, activation='relu'))\n",
    "    model.add(Dense(64, activation='relu'))\n",
    "    model.add(Dense(32, activation='relu'))\n",
    "    model.add(Dense(4, activation='softmax'))\n",
    "\n",
    "    return model"
   ]
  },
  {
   "cell_type": "code",
   "execution_count": 44,
   "id": "4db4c477",
   "metadata": {},
   "outputs": [],
   "source": [
    "def Define_Model_Rev_01():\n",
    "    model = Sequential()\n",
    "    model.add(LSTM(64, activation='relu', input_shape=(DATA_FRAMES_PER_DATA,63)))\n",
    "    model.add(Dense(32, activation='relu'))\n",
    "    model.add(Dense(4, activation='softmax'))\n",
    "\n",
    "    return model"
   ]
  },
  {
   "cell_type": "code",
   "execution_count": 5,
   "id": "7779c9e4",
   "metadata": {},
   "outputs": [],
   "source": [
    "meta_data = pd.read_csv(\"Meta_Data_220105.csv\")"
   ]
  },
  {
   "cell_type": "code",
   "execution_count": 6,
   "id": "3525adcb",
   "metadata": {},
   "outputs": [
    {
     "data": {
      "text/html": [
       "<div>\n",
       "<style scoped>\n",
       "    .dataframe tbody tr th:only-of-type {\n",
       "        vertical-align: middle;\n",
       "    }\n",
       "\n",
       "    .dataframe tbody tr th {\n",
       "        vertical-align: top;\n",
       "    }\n",
       "\n",
       "    .dataframe thead th {\n",
       "        text-align: right;\n",
       "    }\n",
       "</style>\n",
       "<table border=\"1\" class=\"dataframe\">\n",
       "  <thead>\n",
       "    <tr style=\"text-align: right;\">\n",
       "      <th></th>\n",
       "      <th>file_path</th>\n",
       "      <th>action</th>\n",
       "      <th>csv_file_path</th>\n",
       "      <th>padded_file_name</th>\n",
       "    </tr>\n",
       "  </thead>\n",
       "  <tbody>\n",
       "    <tr>\n",
       "      <th>0</th>\n",
       "      <td>./Train_Data\\1_Finger_Click\\Video_Test_10 (2).mp4</td>\n",
       "      <td>1_Finger_Click</td>\n",
       "      <td>./Train_Data\\1_Finger_Click\\Video_Test_10 (2).csv</td>\n",
       "      <td>./Train_Data\\1_Finger_Click\\Video_Test_10 (2)_...</td>\n",
       "    </tr>\n",
       "    <tr>\n",
       "      <th>1</th>\n",
       "      <td>./Train_Data\\1_Finger_Click\\Video_Test_10 (3).mp4</td>\n",
       "      <td>1_Finger_Click</td>\n",
       "      <td>./Train_Data\\1_Finger_Click\\Video_Test_10 (3).csv</td>\n",
       "      <td>./Train_Data\\1_Finger_Click\\Video_Test_10 (3)_...</td>\n",
       "    </tr>\n",
       "    <tr>\n",
       "      <th>2</th>\n",
       "      <td>./Train_Data\\1_Finger_Click\\Video_Test_10 (4).mp4</td>\n",
       "      <td>1_Finger_Click</td>\n",
       "      <td>./Train_Data\\1_Finger_Click\\Video_Test_10 (4).csv</td>\n",
       "      <td>./Train_Data\\1_Finger_Click\\Video_Test_10 (4)_...</td>\n",
       "    </tr>\n",
       "    <tr>\n",
       "      <th>3</th>\n",
       "      <td>./Train_Data\\1_Finger_Click\\Video_Test_10.mp4</td>\n",
       "      <td>1_Finger_Click</td>\n",
       "      <td>./Train_Data\\1_Finger_Click\\Video_Test_10.csv</td>\n",
       "      <td>./Train_Data\\1_Finger_Click\\Video_Test_10_padd...</td>\n",
       "    </tr>\n",
       "    <tr>\n",
       "      <th>4</th>\n",
       "      <td>./Train_Data\\1_Finger_Click\\Video_Test_11 (2).mp4</td>\n",
       "      <td>1_Finger_Click</td>\n",
       "      <td>./Train_Data\\1_Finger_Click\\Video_Test_11 (2).csv</td>\n",
       "      <td>./Train_Data\\1_Finger_Click\\Video_Test_11 (2)_...</td>\n",
       "    </tr>\n",
       "    <tr>\n",
       "      <th>...</th>\n",
       "      <td>...</td>\n",
       "      <td>...</td>\n",
       "      <td>...</td>\n",
       "      <td>...</td>\n",
       "    </tr>\n",
       "    <tr>\n",
       "      <th>384</th>\n",
       "      <td>./Train_Data\\Shake_Hand\\Video_Test_8.mp4</td>\n",
       "      <td>Shake_Hand</td>\n",
       "      <td>./Train_Data\\Shake_Hand\\Video_Test_8.csv</td>\n",
       "      <td>./Train_Data\\Shake_Hand\\Video_Test_8_padded.csv</td>\n",
       "    </tr>\n",
       "    <tr>\n",
       "      <th>385</th>\n",
       "      <td>./Train_Data\\Shake_Hand\\Video_Test_9 (2).mp4</td>\n",
       "      <td>Shake_Hand</td>\n",
       "      <td>./Train_Data\\Shake_Hand\\Video_Test_9 (2).csv</td>\n",
       "      <td>./Train_Data\\Shake_Hand\\Video_Test_9 (2)_padde...</td>\n",
       "    </tr>\n",
       "    <tr>\n",
       "      <th>386</th>\n",
       "      <td>./Train_Data\\Shake_Hand\\Video_Test_9 (3).mp4</td>\n",
       "      <td>Shake_Hand</td>\n",
       "      <td>./Train_Data\\Shake_Hand\\Video_Test_9 (3).csv</td>\n",
       "      <td>./Train_Data\\Shake_Hand\\Video_Test_9 (3)_padde...</td>\n",
       "    </tr>\n",
       "    <tr>\n",
       "      <th>387</th>\n",
       "      <td>./Train_Data\\Shake_Hand\\Video_Test_9 (4).mp4</td>\n",
       "      <td>Shake_Hand</td>\n",
       "      <td>./Train_Data\\Shake_Hand\\Video_Test_9 (4).csv</td>\n",
       "      <td>./Train_Data\\Shake_Hand\\Video_Test_9 (4)_padde...</td>\n",
       "    </tr>\n",
       "    <tr>\n",
       "      <th>388</th>\n",
       "      <td>./Train_Data\\Shake_Hand\\Video_Test_9.mp4</td>\n",
       "      <td>Shake_Hand</td>\n",
       "      <td>./Train_Data\\Shake_Hand\\Video_Test_9.csv</td>\n",
       "      <td>./Train_Data\\Shake_Hand\\Video_Test_9_padded.csv</td>\n",
       "    </tr>\n",
       "  </tbody>\n",
       "</table>\n",
       "<p>389 rows × 4 columns</p>\n",
       "</div>"
      ],
      "text/plain": [
       "                                             file_path          action  \\\n",
       "0    ./Train_Data\\1_Finger_Click\\Video_Test_10 (2).mp4  1_Finger_Click   \n",
       "1    ./Train_Data\\1_Finger_Click\\Video_Test_10 (3).mp4  1_Finger_Click   \n",
       "2    ./Train_Data\\1_Finger_Click\\Video_Test_10 (4).mp4  1_Finger_Click   \n",
       "3        ./Train_Data\\1_Finger_Click\\Video_Test_10.mp4  1_Finger_Click   \n",
       "4    ./Train_Data\\1_Finger_Click\\Video_Test_11 (2).mp4  1_Finger_Click   \n",
       "..                                                 ...             ...   \n",
       "384           ./Train_Data\\Shake_Hand\\Video_Test_8.mp4      Shake_Hand   \n",
       "385       ./Train_Data\\Shake_Hand\\Video_Test_9 (2).mp4      Shake_Hand   \n",
       "386       ./Train_Data\\Shake_Hand\\Video_Test_9 (3).mp4      Shake_Hand   \n",
       "387       ./Train_Data\\Shake_Hand\\Video_Test_9 (4).mp4      Shake_Hand   \n",
       "388           ./Train_Data\\Shake_Hand\\Video_Test_9.mp4      Shake_Hand   \n",
       "\n",
       "                                         csv_file_path  \\\n",
       "0    ./Train_Data\\1_Finger_Click\\Video_Test_10 (2).csv   \n",
       "1    ./Train_Data\\1_Finger_Click\\Video_Test_10 (3).csv   \n",
       "2    ./Train_Data\\1_Finger_Click\\Video_Test_10 (4).csv   \n",
       "3        ./Train_Data\\1_Finger_Click\\Video_Test_10.csv   \n",
       "4    ./Train_Data\\1_Finger_Click\\Video_Test_11 (2).csv   \n",
       "..                                                 ...   \n",
       "384           ./Train_Data\\Shake_Hand\\Video_Test_8.csv   \n",
       "385       ./Train_Data\\Shake_Hand\\Video_Test_9 (2).csv   \n",
       "386       ./Train_Data\\Shake_Hand\\Video_Test_9 (3).csv   \n",
       "387       ./Train_Data\\Shake_Hand\\Video_Test_9 (4).csv   \n",
       "388           ./Train_Data\\Shake_Hand\\Video_Test_9.csv   \n",
       "\n",
       "                                      padded_file_name  \n",
       "0    ./Train_Data\\1_Finger_Click\\Video_Test_10 (2)_...  \n",
       "1    ./Train_Data\\1_Finger_Click\\Video_Test_10 (3)_...  \n",
       "2    ./Train_Data\\1_Finger_Click\\Video_Test_10 (4)_...  \n",
       "3    ./Train_Data\\1_Finger_Click\\Video_Test_10_padd...  \n",
       "4    ./Train_Data\\1_Finger_Click\\Video_Test_11 (2)_...  \n",
       "..                                                 ...  \n",
       "384    ./Train_Data\\Shake_Hand\\Video_Test_8_padded.csv  \n",
       "385  ./Train_Data\\Shake_Hand\\Video_Test_9 (2)_padde...  \n",
       "386  ./Train_Data\\Shake_Hand\\Video_Test_9 (3)_padde...  \n",
       "387  ./Train_Data\\Shake_Hand\\Video_Test_9 (4)_padde...  \n",
       "388    ./Train_Data\\Shake_Hand\\Video_Test_9_padded.csv  \n",
       "\n",
       "[389 rows x 4 columns]"
      ]
     },
     "execution_count": 6,
     "metadata": {},
     "output_type": "execute_result"
    }
   ],
   "source": [
    "meta_data"
   ]
  },
  {
   "cell_type": "code",
   "execution_count": 7,
   "id": "d9529ca4",
   "metadata": {},
   "outputs": [],
   "source": [
    "file_list = meta_data['padded_file_name'].tolist()\n",
    "action = meta_data['action'].tolist()"
   ]
  },
  {
   "cell_type": "code",
   "execution_count": 9,
   "id": "643d4f20",
   "metadata": {},
   "outputs": [
    {
     "name": "stdout",
     "output_type": "stream",
     "text": [
      "389 389\n"
     ]
    }
   ],
   "source": [
    "print(len(file_list) , len(action))"
   ]
  },
  {
   "cell_type": "code",
   "execution_count": 15,
   "id": "c0523b76",
   "metadata": {},
   "outputs": [],
   "source": [
    "train_data = []\n",
    "target_action = []\n",
    "\n",
    "for idx,file in enumerate( file_list ):\n",
    "    d = pd.read_csv(file)\n",
    "    d = np.array(d)\n",
    "    train_data.append(d)\n",
    "    target_action.append(action[idx])"
   ]
  },
  {
   "cell_type": "code",
   "execution_count": 16,
   "id": "356f3d0f",
   "metadata": {},
   "outputs": [],
   "source": [
    "train_data = np.array(train_data)"
   ]
  },
  {
   "cell_type": "code",
   "execution_count": 17,
   "id": "ec9a615b",
   "metadata": {},
   "outputs": [
    {
     "data": {
      "text/plain": [
       "(389, 115, 63)"
      ]
     },
     "execution_count": 17,
     "metadata": {},
     "output_type": "execute_result"
    }
   ],
   "source": [
    "train_data.shape"
   ]
  },
  {
   "cell_type": "code",
   "execution_count": 18,
   "id": "875b33c2",
   "metadata": {},
   "outputs": [
    {
     "data": {
      "text/plain": [
       "['1_Finger_Click',\n",
       " '1_Finger_Click',\n",
       " '1_Finger_Click',\n",
       " '1_Finger_Click',\n",
       " '1_Finger_Click',\n",
       " '1_Finger_Click',\n",
       " '1_Finger_Click',\n",
       " '1_Finger_Click',\n",
       " '1_Finger_Click',\n",
       " '1_Finger_Click',\n",
       " '1_Finger_Click',\n",
       " '1_Finger_Click',\n",
       " '1_Finger_Click',\n",
       " '1_Finger_Click',\n",
       " '1_Finger_Click',\n",
       " '1_Finger_Click',\n",
       " '1_Finger_Click',\n",
       " '1_Finger_Click',\n",
       " '1_Finger_Click',\n",
       " '1_Finger_Click',\n",
       " '1_Finger_Click',\n",
       " '1_Finger_Click',\n",
       " '1_Finger_Click',\n",
       " '1_Finger_Click',\n",
       " '1_Finger_Click',\n",
       " '1_Finger_Click',\n",
       " '1_Finger_Click',\n",
       " '1_Finger_Click',\n",
       " '1_Finger_Click',\n",
       " '1_Finger_Click',\n",
       " '1_Finger_Click',\n",
       " '1_Finger_Click',\n",
       " '1_Finger_Click',\n",
       " '1_Finger_Click',\n",
       " '1_Finger_Click',\n",
       " '1_Finger_Click',\n",
       " '1_Finger_Click',\n",
       " '1_Finger_Click',\n",
       " '1_Finger_Click',\n",
       " '1_Finger_Click',\n",
       " '1_Finger_Click',\n",
       " '1_Finger_Click',\n",
       " '1_Finger_Click',\n",
       " '1_Finger_Click',\n",
       " '1_Finger_Click',\n",
       " '1_Finger_Click',\n",
       " '1_Finger_Click',\n",
       " '1_Finger_Click',\n",
       " '1_Finger_Click',\n",
       " '1_Finger_Click',\n",
       " '1_Finger_Click',\n",
       " '1_Finger_Click',\n",
       " '1_Finger_Click',\n",
       " '1_Finger_Click',\n",
       " '1_Finger_Click',\n",
       " '1_Finger_Click',\n",
       " '1_Finger_Click',\n",
       " '1_Finger_Click',\n",
       " '1_Finger_Click',\n",
       " '1_Finger_Click',\n",
       " '1_Finger_Click',\n",
       " '1_Finger_Click',\n",
       " '1_Finger_Click',\n",
       " '1_Finger_Click',\n",
       " '1_Finger_Click',\n",
       " '1_Finger_Click',\n",
       " '1_Finger_Click',\n",
       " '1_Finger_Click',\n",
       " '1_Finger_Click',\n",
       " '1_Finger_Click',\n",
       " '1_Finger_Click',\n",
       " '1_Finger_Click',\n",
       " '1_Finger_Click',\n",
       " '1_Finger_Click',\n",
       " '1_Finger_Click',\n",
       " '1_Finger_Click',\n",
       " '1_Finger_Click',\n",
       " '1_Finger_Click',\n",
       " '1_Finger_Click',\n",
       " '1_Finger_Click',\n",
       " '1_Finger_Click',\n",
       " '1_Finger_Click',\n",
       " '1_Finger_Click',\n",
       " '1_Finger_Click',\n",
       " '1_Finger_Click',\n",
       " '1_Finger_Click',\n",
       " '1_Finger_Click',\n",
       " '1_Finger_Click',\n",
       " '1_Finger_Click',\n",
       " '1_Finger_Click',\n",
       " '1_Finger_Click',\n",
       " '1_Finger_Click',\n",
       " '1_Finger_Click',\n",
       " '2_Fingers_Left',\n",
       " '2_Fingers_Left',\n",
       " '2_Fingers_Left',\n",
       " '2_Fingers_Left',\n",
       " '2_Fingers_Left',\n",
       " '2_Fingers_Left',\n",
       " '2_Fingers_Left',\n",
       " '2_Fingers_Left',\n",
       " '2_Fingers_Left',\n",
       " '2_Fingers_Left',\n",
       " '2_Fingers_Left',\n",
       " '2_Fingers_Left',\n",
       " '2_Fingers_Left',\n",
       " '2_Fingers_Left',\n",
       " '2_Fingers_Left',\n",
       " '2_Fingers_Left',\n",
       " '2_Fingers_Left',\n",
       " '2_Fingers_Left',\n",
       " '2_Fingers_Left',\n",
       " '2_Fingers_Left',\n",
       " '2_Fingers_Left',\n",
       " '2_Fingers_Left',\n",
       " '2_Fingers_Left',\n",
       " '2_Fingers_Left',\n",
       " '2_Fingers_Left',\n",
       " '2_Fingers_Left',\n",
       " '2_Fingers_Left',\n",
       " '2_Fingers_Left',\n",
       " '2_Fingers_Left',\n",
       " '2_Fingers_Left',\n",
       " '2_Fingers_Left',\n",
       " '2_Fingers_Left',\n",
       " '2_Fingers_Left',\n",
       " '2_Fingers_Left',\n",
       " '2_Fingers_Left',\n",
       " '2_Fingers_Left',\n",
       " '2_Fingers_Left',\n",
       " '2_Fingers_Left',\n",
       " '2_Fingers_Left',\n",
       " '2_Fingers_Left',\n",
       " '2_Fingers_Left',\n",
       " '2_Fingers_Left',\n",
       " '2_Fingers_Left',\n",
       " '2_Fingers_Left',\n",
       " '2_Fingers_Left',\n",
       " '2_Fingers_Left',\n",
       " '2_Fingers_Left',\n",
       " '2_Fingers_Left',\n",
       " '2_Fingers_Left',\n",
       " '2_Fingers_Left',\n",
       " '2_Fingers_Left',\n",
       " '2_Fingers_Left',\n",
       " '2_Fingers_Left',\n",
       " '2_Fingers_Left',\n",
       " '2_Fingers_Left',\n",
       " '2_Fingers_Left',\n",
       " '2_Fingers_Left',\n",
       " '2_Fingers_Left',\n",
       " '2_Fingers_Left',\n",
       " '2_Fingers_Left',\n",
       " '2_Fingers_Left',\n",
       " '2_Fingers_Left',\n",
       " '2_Fingers_Left',\n",
       " '2_Fingers_Left',\n",
       " '2_Fingers_Left',\n",
       " '2_Fingers_Left',\n",
       " '2_Fingers_Left',\n",
       " '2_Fingers_Left',\n",
       " '2_Fingers_Left',\n",
       " '2_Fingers_Left',\n",
       " '2_Fingers_Left',\n",
       " '2_Fingers_Left',\n",
       " '2_Fingers_Left',\n",
       " '2_Fingers_Left',\n",
       " '2_Fingers_Left',\n",
       " '2_Fingers_Left',\n",
       " '2_Fingers_Left',\n",
       " '2_Fingers_Left',\n",
       " '2_Fingers_Left',\n",
       " '2_Fingers_Left',\n",
       " '2_Fingers_Left',\n",
       " '2_Fingers_Left',\n",
       " '2_Fingers_Left',\n",
       " '2_Fingers_Left',\n",
       " '2_Fingers_Left',\n",
       " '2_Fingers_Left',\n",
       " '2_Fingers_Left',\n",
       " '2_Fingers_Left',\n",
       " '2_Fingers_Left',\n",
       " '2_Fingers_Left',\n",
       " '2_Fingers_Left',\n",
       " '2_Fingers_Left',\n",
       " '2_Fingers_Left',\n",
       " '2_Fingers_Left',\n",
       " '2_Fingers_Left',\n",
       " '2_Fingers_Right',\n",
       " '2_Fingers_Right',\n",
       " '2_Fingers_Right',\n",
       " '2_Fingers_Right',\n",
       " '2_Fingers_Right',\n",
       " '2_Fingers_Right',\n",
       " '2_Fingers_Right',\n",
       " '2_Fingers_Right',\n",
       " '2_Fingers_Right',\n",
       " '2_Fingers_Right',\n",
       " '2_Fingers_Right',\n",
       " '2_Fingers_Right',\n",
       " '2_Fingers_Right',\n",
       " '2_Fingers_Right',\n",
       " '2_Fingers_Right',\n",
       " '2_Fingers_Right',\n",
       " '2_Fingers_Right',\n",
       " '2_Fingers_Right',\n",
       " '2_Fingers_Right',\n",
       " '2_Fingers_Right',\n",
       " '2_Fingers_Right',\n",
       " '2_Fingers_Right',\n",
       " '2_Fingers_Right',\n",
       " '2_Fingers_Right',\n",
       " '2_Fingers_Right',\n",
       " '2_Fingers_Right',\n",
       " '2_Fingers_Right',\n",
       " '2_Fingers_Right',\n",
       " '2_Fingers_Right',\n",
       " '2_Fingers_Right',\n",
       " '2_Fingers_Right',\n",
       " '2_Fingers_Right',\n",
       " '2_Fingers_Right',\n",
       " '2_Fingers_Right',\n",
       " '2_Fingers_Right',\n",
       " '2_Fingers_Right',\n",
       " '2_Fingers_Right',\n",
       " '2_Fingers_Right',\n",
       " '2_Fingers_Right',\n",
       " '2_Fingers_Right',\n",
       " '2_Fingers_Right',\n",
       " '2_Fingers_Right',\n",
       " '2_Fingers_Right',\n",
       " '2_Fingers_Right',\n",
       " '2_Fingers_Right',\n",
       " '2_Fingers_Right',\n",
       " '2_Fingers_Right',\n",
       " '2_Fingers_Right',\n",
       " '2_Fingers_Right',\n",
       " '2_Fingers_Right',\n",
       " '2_Fingers_Right',\n",
       " '2_Fingers_Right',\n",
       " '2_Fingers_Right',\n",
       " '2_Fingers_Right',\n",
       " '2_Fingers_Right',\n",
       " '2_Fingers_Right',\n",
       " '2_Fingers_Right',\n",
       " '2_Fingers_Right',\n",
       " '2_Fingers_Right',\n",
       " '2_Fingers_Right',\n",
       " '2_Fingers_Right',\n",
       " '2_Fingers_Right',\n",
       " '2_Fingers_Right',\n",
       " '2_Fingers_Right',\n",
       " '2_Fingers_Right',\n",
       " '2_Fingers_Right',\n",
       " '2_Fingers_Right',\n",
       " '2_Fingers_Right',\n",
       " '2_Fingers_Right',\n",
       " '2_Fingers_Right',\n",
       " '2_Fingers_Right',\n",
       " '2_Fingers_Right',\n",
       " '2_Fingers_Right',\n",
       " '2_Fingers_Right',\n",
       " '2_Fingers_Right',\n",
       " '2_Fingers_Right',\n",
       " '2_Fingers_Right',\n",
       " '2_Fingers_Right',\n",
       " '2_Fingers_Right',\n",
       " '2_Fingers_Right',\n",
       " '2_Fingers_Right',\n",
       " '2_Fingers_Right',\n",
       " '2_Fingers_Right',\n",
       " '2_Fingers_Right',\n",
       " '2_Fingers_Right',\n",
       " '2_Fingers_Right',\n",
       " '2_Fingers_Right',\n",
       " '2_Fingers_Right',\n",
       " '2_Fingers_Right',\n",
       " '2_Fingers_Right',\n",
       " '2_Fingers_Right',\n",
       " '2_Fingers_Right',\n",
       " '2_Fingers_Right',\n",
       " '2_Fingers_Right',\n",
       " '2_Fingers_Right',\n",
       " '2_Fingers_Right',\n",
       " '2_Fingers_Right',\n",
       " '2_Fingers_Right',\n",
       " '2_Fingers_Right',\n",
       " 'Shake_Hand',\n",
       " 'Shake_Hand',\n",
       " 'Shake_Hand',\n",
       " 'Shake_Hand',\n",
       " 'Shake_Hand',\n",
       " 'Shake_Hand',\n",
       " 'Shake_Hand',\n",
       " 'Shake_Hand',\n",
       " 'Shake_Hand',\n",
       " 'Shake_Hand',\n",
       " 'Shake_Hand',\n",
       " 'Shake_Hand',\n",
       " 'Shake_Hand',\n",
       " 'Shake_Hand',\n",
       " 'Shake_Hand',\n",
       " 'Shake_Hand',\n",
       " 'Shake_Hand',\n",
       " 'Shake_Hand',\n",
       " 'Shake_Hand',\n",
       " 'Shake_Hand',\n",
       " 'Shake_Hand',\n",
       " 'Shake_Hand',\n",
       " 'Shake_Hand',\n",
       " 'Shake_Hand',\n",
       " 'Shake_Hand',\n",
       " 'Shake_Hand',\n",
       " 'Shake_Hand',\n",
       " 'Shake_Hand',\n",
       " 'Shake_Hand',\n",
       " 'Shake_Hand',\n",
       " 'Shake_Hand',\n",
       " 'Shake_Hand',\n",
       " 'Shake_Hand',\n",
       " 'Shake_Hand',\n",
       " 'Shake_Hand',\n",
       " 'Shake_Hand',\n",
       " 'Shake_Hand',\n",
       " 'Shake_Hand',\n",
       " 'Shake_Hand',\n",
       " 'Shake_Hand',\n",
       " 'Shake_Hand',\n",
       " 'Shake_Hand',\n",
       " 'Shake_Hand',\n",
       " 'Shake_Hand',\n",
       " 'Shake_Hand',\n",
       " 'Shake_Hand',\n",
       " 'Shake_Hand',\n",
       " 'Shake_Hand',\n",
       " 'Shake_Hand',\n",
       " 'Shake_Hand',\n",
       " 'Shake_Hand',\n",
       " 'Shake_Hand',\n",
       " 'Shake_Hand',\n",
       " 'Shake_Hand',\n",
       " 'Shake_Hand',\n",
       " 'Shake_Hand',\n",
       " 'Shake_Hand',\n",
       " 'Shake_Hand',\n",
       " 'Shake_Hand',\n",
       " 'Shake_Hand',\n",
       " 'Shake_Hand',\n",
       " 'Shake_Hand',\n",
       " 'Shake_Hand',\n",
       " 'Shake_Hand',\n",
       " 'Shake_Hand',\n",
       " 'Shake_Hand',\n",
       " 'Shake_Hand',\n",
       " 'Shake_Hand',\n",
       " 'Shake_Hand',\n",
       " 'Shake_Hand',\n",
       " 'Shake_Hand',\n",
       " 'Shake_Hand',\n",
       " 'Shake_Hand',\n",
       " 'Shake_Hand',\n",
       " 'Shake_Hand',\n",
       " 'Shake_Hand',\n",
       " 'Shake_Hand',\n",
       " 'Shake_Hand',\n",
       " 'Shake_Hand',\n",
       " 'Shake_Hand',\n",
       " 'Shake_Hand',\n",
       " 'Shake_Hand',\n",
       " 'Shake_Hand',\n",
       " 'Shake_Hand',\n",
       " 'Shake_Hand',\n",
       " 'Shake_Hand',\n",
       " 'Shake_Hand',\n",
       " 'Shake_Hand',\n",
       " 'Shake_Hand',\n",
       " 'Shake_Hand',\n",
       " 'Shake_Hand',\n",
       " 'Shake_Hand',\n",
       " 'Shake_Hand',\n",
       " 'Shake_Hand',\n",
       " 'Shake_Hand',\n",
       " 'Shake_Hand',\n",
       " 'Shake_Hand',\n",
       " 'Shake_Hand',\n",
       " 'Shake_Hand',\n",
       " 'Shake_Hand',\n",
       " 'Shake_Hand',\n",
       " 'Shake_Hand']"
      ]
     },
     "execution_count": 18,
     "metadata": {},
     "output_type": "execute_result"
    }
   ],
   "source": [
    "target_action"
   ]
  },
  {
   "cell_type": "code",
   "execution_count": 30,
   "id": "f6535ba2",
   "metadata": {},
   "outputs": [
    {
     "data": {
      "text/plain": [
       "array(['1_Finger_Click', '2_Fingers_Left', '2_Fingers_Right',\n",
       "       'Shake_Hand'], dtype='<U15')"
      ]
     },
     "execution_count": 30,
     "metadata": {},
     "output_type": "execute_result"
    }
   ],
   "source": [
    "np.unique(target_action)"
   ]
  },
  {
   "cell_type": "code",
   "execution_count": 31,
   "id": "32ba1569",
   "metadata": {},
   "outputs": [],
   "source": [
    "le = LabelEncoder()"
   ]
  },
  {
   "cell_type": "code",
   "execution_count": 33,
   "id": "099a858e",
   "metadata": {},
   "outputs": [],
   "source": [
    "le_action = le.fit(target_action)"
   ]
  },
  {
   "cell_type": "code",
   "execution_count": 34,
   "id": "ae0dacbd",
   "metadata": {},
   "outputs": [],
   "source": [
    "le_action = le.transform(target_action)"
   ]
  },
  {
   "cell_type": "code",
   "execution_count": 35,
   "id": "cdeef2ff",
   "metadata": {},
   "outputs": [
    {
     "data": {
      "text/plain": [
       "array([[1., 0., 0., 0.],\n",
       "       [1., 0., 0., 0.],\n",
       "       [1., 0., 0., 0.],\n",
       "       ...,\n",
       "       [0., 0., 0., 1.],\n",
       "       [0., 0., 0., 1.],\n",
       "       [0., 0., 0., 1.]], dtype=float32)"
      ]
     },
     "execution_count": 35,
     "metadata": {},
     "output_type": "execute_result"
    }
   ],
   "source": [
    "y = tf.keras.utils.to_categorical(le_action, num_classes=4)\n",
    "y"
   ]
  },
  {
   "cell_type": "code",
   "execution_count": 36,
   "id": "b9bb731e",
   "metadata": {},
   "outputs": [
    {
     "data": {
      "text/plain": [
       "array(['1_Finger_Click', '2_Fingers_Left', '2_Fingers_Right',\n",
       "       'Shake_Hand'], dtype='<U15')"
      ]
     },
     "execution_count": 36,
     "metadata": {},
     "output_type": "execute_result"
    }
   ],
   "source": [
    "le.classes_"
   ]
  },
  {
   "cell_type": "code",
   "execution_count": null,
   "id": "8784437e",
   "metadata": {},
   "outputs": [],
   "source": []
  },
  {
   "cell_type": "code",
   "execution_count": null,
   "id": "dac0ccb7",
   "metadata": {},
   "outputs": [],
   "source": []
  },
  {
   "cell_type": "code",
   "execution_count": 37,
   "id": "b0a14076",
   "metadata": {},
   "outputs": [],
   "source": [
    "X_train, X_test, y_train, y_test = train_test_split(train_data, y, test_size=0.25 , stratify = y)"
   ]
  },
  {
   "cell_type": "code",
   "execution_count": 41,
   "id": "5f93ec25",
   "metadata": {},
   "outputs": [
    {
     "name": "stdout",
     "output_type": "stream",
     "text": [
      "(291, 115, 63)\n",
      "(98, 115, 63)\n"
     ]
    }
   ],
   "source": [
    "print( X_train.shape )\n",
    "print( X_test.shape)"
   ]
  },
  {
   "cell_type": "code",
   "execution_count": 42,
   "id": "069eb1ea",
   "metadata": {},
   "outputs": [
    {
     "name": "stdout",
     "output_type": "stream",
     "text": [
      "(291, 4)\n",
      "(98, 4)\n"
     ]
    }
   ],
   "source": [
    "print( y_train.shape )\n",
    "print( y_test.shape)"
   ]
  },
  {
   "cell_type": "code",
   "execution_count": 50,
   "id": "f07bf13a",
   "metadata": {},
   "outputs": [
    {
     "name": "stdout",
     "output_type": "stream",
     "text": [
      "WARNING:tensorflow:Layer lstm_2 will not use cuDNN kernels since it doesn't meet the criteria. It will use a generic GPU kernel as fallback when running on GPU.\n",
      "WARNING:tensorflow:Layer lstm_3 will not use cuDNN kernels since it doesn't meet the criteria. It will use a generic GPU kernel as fallback when running on GPU.\n",
      "WARNING:tensorflow:Layer lstm_4 will not use cuDNN kernels since it doesn't meet the criteria. It will use a generic GPU kernel as fallback when running on GPU.\n"
     ]
    }
   ],
   "source": [
    "#model = Define_Model_Rev_01()\n",
    "model = Define_Model()"
   ]
  },
  {
   "cell_type": "code",
   "execution_count": 51,
   "id": "517f5c97",
   "metadata": {},
   "outputs": [],
   "source": [
    "model.compile(  optimizer='Adam', \n",
    "                loss='categorical_crossentropy', \n",
    "                metrics=['categorical_accuracy'])"
   ]
  },
  {
   "cell_type": "code",
   "execution_count": 52,
   "id": "42231a85",
   "metadata": {},
   "outputs": [
    {
     "name": "stdout",
     "output_type": "stream",
     "text": [
      "Model: \"sequential_2\"\n",
      "_________________________________________________________________\n",
      "Layer (type)                 Output Shape              Param #   \n",
      "=================================================================\n",
      "lstm_2 (LSTM)                (None, 115, 256)          327680    \n",
      "_________________________________________________________________\n",
      "lstm_3 (LSTM)                (None, 115, 128)          197120    \n",
      "_________________________________________________________________\n",
      "lstm_4 (LSTM)                (None, 64)                49408     \n",
      "_________________________________________________________________\n",
      "dense_3 (Dense)              (None, 64)                4160      \n",
      "_________________________________________________________________\n",
      "dense_4 (Dense)              (None, 32)                2080      \n",
      "_________________________________________________________________\n",
      "dense_5 (Dense)              (None, 4)                 132       \n",
      "=================================================================\n",
      "Total params: 580,580\n",
      "Trainable params: 580,580\n",
      "Non-trainable params: 0\n",
      "_________________________________________________________________\n"
     ]
    }
   ],
   "source": [
    "model.summary()"
   ]
  },
  {
   "cell_type": "code",
   "execution_count": null,
   "id": "e9d6d2f9",
   "metadata": {},
   "outputs": [],
   "source": []
  },
  {
   "cell_type": "code",
   "execution_count": null,
   "id": "a4e9bf81",
   "metadata": {},
   "outputs": [],
   "source": []
  },
  {
   "cell_type": "code",
   "execution_count": 53,
   "id": "5b0727c9",
   "metadata": {},
   "outputs": [
    {
     "name": "stdout",
     "output_type": "stream",
     "text": [
      "Epoch 1/2000\n",
      "10/10 [==============================] - 21s 2s/step - loss: 1.3481 - categorical_accuracy: 0.3333 - val_loss: 1.2511 - val_categorical_accuracy: 0.3163\n",
      "Epoch 2/2000\n",
      "10/10 [==============================] - 18s 2s/step - loss: 1.2529 - categorical_accuracy: 0.3265 - val_loss: 1.2836 - val_categorical_accuracy: 0.3980\n",
      "Epoch 3/2000\n",
      " 9/10 [==========================>...] - ETA: 1s - loss: 1.3143 - categorical_accuracy: 0.3889"
     ]
    },
    {
     "ename": "KeyboardInterrupt",
     "evalue": "",
     "output_type": "error",
     "traceback": [
      "\u001b[1;31m---------------------------------------------------------------------------\u001b[0m",
      "\u001b[1;31mKeyboardInterrupt\u001b[0m                         Traceback (most recent call last)",
      "\u001b[1;32m<ipython-input-53-fd24f6b805db>\u001b[0m in \u001b[0;36m<module>\u001b[1;34m\u001b[0m\n\u001b[1;32m----> 1\u001b[1;33m model.fit(  X_train, y_train, \n\u001b[0m\u001b[0;32m      2\u001b[0m             \u001b[0mvalidation_data\u001b[0m\u001b[1;33m=\u001b[0m\u001b[1;33m(\u001b[0m\u001b[0mX_test\u001b[0m \u001b[1;33m,\u001b[0m \u001b[0my_test\u001b[0m\u001b[1;33m)\u001b[0m\u001b[1;33m,\u001b[0m\u001b[1;33m\u001b[0m\u001b[1;33m\u001b[0m\u001b[0m\n\u001b[0;32m      3\u001b[0m             \u001b[0mepochs\u001b[0m\u001b[1;33m=\u001b[0m\u001b[1;36m2000\u001b[0m\u001b[1;33m,\u001b[0m\u001b[1;33m\u001b[0m\u001b[1;33m\u001b[0m\u001b[0m\n\u001b[0;32m      4\u001b[0m             \u001b[1;31m#callbacks=[cp , tb_callback]\u001b[0m\u001b[1;33m\u001b[0m\u001b[1;33m\u001b[0m\u001b[1;33m\u001b[0m\u001b[0m\n\u001b[0;32m      5\u001b[0m          )\n",
      "\u001b[1;32m~\\Anaconda3\\envs\\TF.2.5.0-GPU\\lib\\site-packages\\tensorflow\\python\\keras\\engine\\training.py\u001b[0m in \u001b[0;36mfit\u001b[1;34m(self, x, y, batch_size, epochs, verbose, callbacks, validation_split, validation_data, shuffle, class_weight, sample_weight, initial_epoch, steps_per_epoch, validation_steps, validation_batch_size, validation_freq, max_queue_size, workers, use_multiprocessing)\u001b[0m\n\u001b[0;32m   1181\u001b[0m                 _r=1):\n\u001b[0;32m   1182\u001b[0m               \u001b[0mcallbacks\u001b[0m\u001b[1;33m.\u001b[0m\u001b[0mon_train_batch_begin\u001b[0m\u001b[1;33m(\u001b[0m\u001b[0mstep\u001b[0m\u001b[1;33m)\u001b[0m\u001b[1;33m\u001b[0m\u001b[1;33m\u001b[0m\u001b[0m\n\u001b[1;32m-> 1183\u001b[1;33m               \u001b[0mtmp_logs\u001b[0m \u001b[1;33m=\u001b[0m \u001b[0mself\u001b[0m\u001b[1;33m.\u001b[0m\u001b[0mtrain_function\u001b[0m\u001b[1;33m(\u001b[0m\u001b[0miterator\u001b[0m\u001b[1;33m)\u001b[0m\u001b[1;33m\u001b[0m\u001b[1;33m\u001b[0m\u001b[0m\n\u001b[0m\u001b[0;32m   1184\u001b[0m               \u001b[1;32mif\u001b[0m \u001b[0mdata_handler\u001b[0m\u001b[1;33m.\u001b[0m\u001b[0mshould_sync\u001b[0m\u001b[1;33m:\u001b[0m\u001b[1;33m\u001b[0m\u001b[1;33m\u001b[0m\u001b[0m\n\u001b[0;32m   1185\u001b[0m                 \u001b[0mcontext\u001b[0m\u001b[1;33m.\u001b[0m\u001b[0masync_wait\u001b[0m\u001b[1;33m(\u001b[0m\u001b[1;33m)\u001b[0m\u001b[1;33m\u001b[0m\u001b[1;33m\u001b[0m\u001b[0m\n",
      "\u001b[1;32m~\\Anaconda3\\envs\\TF.2.5.0-GPU\\lib\\site-packages\\tensorflow\\python\\eager\\def_function.py\u001b[0m in \u001b[0;36m__call__\u001b[1;34m(self, *args, **kwds)\u001b[0m\n\u001b[0;32m    887\u001b[0m \u001b[1;33m\u001b[0m\u001b[0m\n\u001b[0;32m    888\u001b[0m       \u001b[1;32mwith\u001b[0m \u001b[0mOptionalXlaContext\u001b[0m\u001b[1;33m(\u001b[0m\u001b[0mself\u001b[0m\u001b[1;33m.\u001b[0m\u001b[0m_jit_compile\u001b[0m\u001b[1;33m)\u001b[0m\u001b[1;33m:\u001b[0m\u001b[1;33m\u001b[0m\u001b[1;33m\u001b[0m\u001b[0m\n\u001b[1;32m--> 889\u001b[1;33m         \u001b[0mresult\u001b[0m \u001b[1;33m=\u001b[0m \u001b[0mself\u001b[0m\u001b[1;33m.\u001b[0m\u001b[0m_call\u001b[0m\u001b[1;33m(\u001b[0m\u001b[1;33m*\u001b[0m\u001b[0margs\u001b[0m\u001b[1;33m,\u001b[0m \u001b[1;33m**\u001b[0m\u001b[0mkwds\u001b[0m\u001b[1;33m)\u001b[0m\u001b[1;33m\u001b[0m\u001b[1;33m\u001b[0m\u001b[0m\n\u001b[0m\u001b[0;32m    890\u001b[0m \u001b[1;33m\u001b[0m\u001b[0m\n\u001b[0;32m    891\u001b[0m       \u001b[0mnew_tracing_count\u001b[0m \u001b[1;33m=\u001b[0m \u001b[0mself\u001b[0m\u001b[1;33m.\u001b[0m\u001b[0mexperimental_get_tracing_count\u001b[0m\u001b[1;33m(\u001b[0m\u001b[1;33m)\u001b[0m\u001b[1;33m\u001b[0m\u001b[1;33m\u001b[0m\u001b[0m\n",
      "\u001b[1;32m~\\Anaconda3\\envs\\TF.2.5.0-GPU\\lib\\site-packages\\tensorflow\\python\\eager\\def_function.py\u001b[0m in \u001b[0;36m_call\u001b[1;34m(self, *args, **kwds)\u001b[0m\n\u001b[0;32m    915\u001b[0m       \u001b[1;31m# In this case we have created variables on the first call, so we run the\u001b[0m\u001b[1;33m\u001b[0m\u001b[1;33m\u001b[0m\u001b[1;33m\u001b[0m\u001b[0m\n\u001b[0;32m    916\u001b[0m       \u001b[1;31m# defunned version which is guaranteed to never create variables.\u001b[0m\u001b[1;33m\u001b[0m\u001b[1;33m\u001b[0m\u001b[1;33m\u001b[0m\u001b[0m\n\u001b[1;32m--> 917\u001b[1;33m       \u001b[1;32mreturn\u001b[0m \u001b[0mself\u001b[0m\u001b[1;33m.\u001b[0m\u001b[0m_stateless_fn\u001b[0m\u001b[1;33m(\u001b[0m\u001b[1;33m*\u001b[0m\u001b[0margs\u001b[0m\u001b[1;33m,\u001b[0m \u001b[1;33m**\u001b[0m\u001b[0mkwds\u001b[0m\u001b[1;33m)\u001b[0m  \u001b[1;31m# pylint: disable=not-callable\u001b[0m\u001b[1;33m\u001b[0m\u001b[1;33m\u001b[0m\u001b[0m\n\u001b[0m\u001b[0;32m    918\u001b[0m     \u001b[1;32melif\u001b[0m \u001b[0mself\u001b[0m\u001b[1;33m.\u001b[0m\u001b[0m_stateful_fn\u001b[0m \u001b[1;32mis\u001b[0m \u001b[1;32mnot\u001b[0m \u001b[1;32mNone\u001b[0m\u001b[1;33m:\u001b[0m\u001b[1;33m\u001b[0m\u001b[1;33m\u001b[0m\u001b[0m\n\u001b[0;32m    919\u001b[0m       \u001b[1;31m# Release the lock early so that multiple threads can perform the call\u001b[0m\u001b[1;33m\u001b[0m\u001b[1;33m\u001b[0m\u001b[1;33m\u001b[0m\u001b[0m\n",
      "\u001b[1;32m~\\Anaconda3\\envs\\TF.2.5.0-GPU\\lib\\site-packages\\tensorflow\\python\\eager\\function.py\u001b[0m in \u001b[0;36m__call__\u001b[1;34m(self, *args, **kwargs)\u001b[0m\n\u001b[0;32m   3021\u001b[0m       (graph_function,\n\u001b[0;32m   3022\u001b[0m        filtered_flat_args) = self._maybe_define_function(args, kwargs)\n\u001b[1;32m-> 3023\u001b[1;33m     return graph_function._call_flat(\n\u001b[0m\u001b[0;32m   3024\u001b[0m         filtered_flat_args, captured_inputs=graph_function.captured_inputs)  # pylint: disable=protected-access\n\u001b[0;32m   3025\u001b[0m \u001b[1;33m\u001b[0m\u001b[0m\n",
      "\u001b[1;32m~\\Anaconda3\\envs\\TF.2.5.0-GPU\\lib\\site-packages\\tensorflow\\python\\eager\\function.py\u001b[0m in \u001b[0;36m_call_flat\u001b[1;34m(self, args, captured_inputs, cancellation_manager)\u001b[0m\n\u001b[0;32m   1958\u001b[0m         and executing_eagerly):\n\u001b[0;32m   1959\u001b[0m       \u001b[1;31m# No tape is watching; skip to running the function.\u001b[0m\u001b[1;33m\u001b[0m\u001b[1;33m\u001b[0m\u001b[1;33m\u001b[0m\u001b[0m\n\u001b[1;32m-> 1960\u001b[1;33m       return self._build_call_outputs(self._inference_function.call(\n\u001b[0m\u001b[0;32m   1961\u001b[0m           ctx, args, cancellation_manager=cancellation_manager))\n\u001b[0;32m   1962\u001b[0m     forward_backward = self._select_forward_and_backward_functions(\n",
      "\u001b[1;32m~\\Anaconda3\\envs\\TF.2.5.0-GPU\\lib\\site-packages\\tensorflow\\python\\eager\\function.py\u001b[0m in \u001b[0;36mcall\u001b[1;34m(self, ctx, args, cancellation_manager)\u001b[0m\n\u001b[0;32m    589\u001b[0m       \u001b[1;32mwith\u001b[0m \u001b[0m_InterpolateFunctionError\u001b[0m\u001b[1;33m(\u001b[0m\u001b[0mself\u001b[0m\u001b[1;33m)\u001b[0m\u001b[1;33m:\u001b[0m\u001b[1;33m\u001b[0m\u001b[1;33m\u001b[0m\u001b[0m\n\u001b[0;32m    590\u001b[0m         \u001b[1;32mif\u001b[0m \u001b[0mcancellation_manager\u001b[0m \u001b[1;32mis\u001b[0m \u001b[1;32mNone\u001b[0m\u001b[1;33m:\u001b[0m\u001b[1;33m\u001b[0m\u001b[1;33m\u001b[0m\u001b[0m\n\u001b[1;32m--> 591\u001b[1;33m           outputs = execute.execute(\n\u001b[0m\u001b[0;32m    592\u001b[0m               \u001b[0mstr\u001b[0m\u001b[1;33m(\u001b[0m\u001b[0mself\u001b[0m\u001b[1;33m.\u001b[0m\u001b[0msignature\u001b[0m\u001b[1;33m.\u001b[0m\u001b[0mname\u001b[0m\u001b[1;33m)\u001b[0m\u001b[1;33m,\u001b[0m\u001b[1;33m\u001b[0m\u001b[1;33m\u001b[0m\u001b[0m\n\u001b[0;32m    593\u001b[0m               \u001b[0mnum_outputs\u001b[0m\u001b[1;33m=\u001b[0m\u001b[0mself\u001b[0m\u001b[1;33m.\u001b[0m\u001b[0m_num_outputs\u001b[0m\u001b[1;33m,\u001b[0m\u001b[1;33m\u001b[0m\u001b[1;33m\u001b[0m\u001b[0m\n",
      "\u001b[1;32m~\\Anaconda3\\envs\\TF.2.5.0-GPU\\lib\\site-packages\\tensorflow\\python\\eager\\execute.py\u001b[0m in \u001b[0;36mquick_execute\u001b[1;34m(op_name, num_outputs, inputs, attrs, ctx, name)\u001b[0m\n\u001b[0;32m     57\u001b[0m   \u001b[1;32mtry\u001b[0m\u001b[1;33m:\u001b[0m\u001b[1;33m\u001b[0m\u001b[1;33m\u001b[0m\u001b[0m\n\u001b[0;32m     58\u001b[0m     \u001b[0mctx\u001b[0m\u001b[1;33m.\u001b[0m\u001b[0mensure_initialized\u001b[0m\u001b[1;33m(\u001b[0m\u001b[1;33m)\u001b[0m\u001b[1;33m\u001b[0m\u001b[1;33m\u001b[0m\u001b[0m\n\u001b[1;32m---> 59\u001b[1;33m     tensors = pywrap_tfe.TFE_Py_Execute(ctx._handle, device_name, op_name,\n\u001b[0m\u001b[0;32m     60\u001b[0m                                         inputs, attrs, num_outputs)\n\u001b[0;32m     61\u001b[0m   \u001b[1;32mexcept\u001b[0m \u001b[0mcore\u001b[0m\u001b[1;33m.\u001b[0m\u001b[0m_NotOkStatusException\u001b[0m \u001b[1;32mas\u001b[0m \u001b[0me\u001b[0m\u001b[1;33m:\u001b[0m\u001b[1;33m\u001b[0m\u001b[1;33m\u001b[0m\u001b[0m\n",
      "\u001b[1;31mKeyboardInterrupt\u001b[0m: "
     ]
    }
   ],
   "source": [
    "model.fit(  X_train, y_train, \n",
    "            validation_data=(X_test , y_test),\n",
    "            epochs=2000, \n",
    "            #callbacks=[cp , tb_callback]\n",
    "         )"
   ]
  },
  {
   "cell_type": "code",
   "execution_count": null,
   "id": "8d98b9ff",
   "metadata": {},
   "outputs": [],
   "source": []
  }
 ],
 "metadata": {
  "kernelspec": {
   "display_name": "TF.2.5.0-GPU",
   "language": "python",
   "name": "tf.2.5.0-gpu"
  },
  "language_info": {
   "codemirror_mode": {
    "name": "ipython",
    "version": 3
   },
   "file_extension": ".py",
   "mimetype": "text/x-python",
   "name": "python",
   "nbconvert_exporter": "python",
   "pygments_lexer": "ipython3",
   "version": "3.9.5"
  }
 },
 "nbformat": 4,
 "nbformat_minor": 5
}
