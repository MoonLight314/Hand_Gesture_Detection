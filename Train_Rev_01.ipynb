{
 "cells": [
  {
   "cell_type": "code",
   "execution_count": 1,
   "id": "ac13752d",
   "metadata": {},
   "outputs": [],
   "source": [
    "import numpy as np\n",
    "import pandas as pd\n",
    "import os\n",
    "import tensorflow as tf\n",
    "\n",
    "from sklearn.preprocessing import LabelEncoder \n",
    "from sklearn.model_selection import train_test_split\n",
    "from tensorflow.keras.utils import to_categorical\n",
    "from tensorflow.keras.models import Sequential\n",
    "from tensorflow.keras.layers import LSTM, Dense, Bidirectional\n",
    "from tensorflow.keras.callbacks import TensorBoard , ModelCheckpoint"
   ]
  },
  {
   "cell_type": "code",
   "execution_count": 2,
   "id": "ff9fc322",
   "metadata": {},
   "outputs": [],
   "source": [
    "DATA_FRAMES_PER_DATA = 115"
   ]
  },
  {
   "cell_type": "code",
   "execution_count": 3,
   "id": "7779c9e4",
   "metadata": {},
   "outputs": [],
   "source": [
    "meta_data = pd.read_csv(\"Meta_Data_220105.csv\")"
   ]
  },
  {
   "cell_type": "code",
   "execution_count": 4,
   "id": "3525adcb",
   "metadata": {},
   "outputs": [
    {
     "data": {
      "text/html": [
       "<div>\n",
       "<style scoped>\n",
       "    .dataframe tbody tr th:only-of-type {\n",
       "        vertical-align: middle;\n",
       "    }\n",
       "\n",
       "    .dataframe tbody tr th {\n",
       "        vertical-align: top;\n",
       "    }\n",
       "\n",
       "    .dataframe thead th {\n",
       "        text-align: right;\n",
       "    }\n",
       "</style>\n",
       "<table border=\"1\" class=\"dataframe\">\n",
       "  <thead>\n",
       "    <tr style=\"text-align: right;\">\n",
       "      <th></th>\n",
       "      <th>file_path</th>\n",
       "      <th>action</th>\n",
       "      <th>csv_file_path</th>\n",
       "      <th>padded_file_name</th>\n",
       "    </tr>\n",
       "  </thead>\n",
       "  <tbody>\n",
       "    <tr>\n",
       "      <th>0</th>\n",
       "      <td>./Train_Data\\1_Finger_Click\\Video_Test_10 (2).mp4</td>\n",
       "      <td>1_Finger_Click</td>\n",
       "      <td>./Train_Data\\1_Finger_Click\\Video_Test_10 (2).csv</td>\n",
       "      <td>./Train_Data\\1_Finger_Click\\Video_Test_10 (2)_...</td>\n",
       "    </tr>\n",
       "    <tr>\n",
       "      <th>1</th>\n",
       "      <td>./Train_Data\\1_Finger_Click\\Video_Test_10 (3).mp4</td>\n",
       "      <td>1_Finger_Click</td>\n",
       "      <td>./Train_Data\\1_Finger_Click\\Video_Test_10 (3).csv</td>\n",
       "      <td>./Train_Data\\1_Finger_Click\\Video_Test_10 (3)_...</td>\n",
       "    </tr>\n",
       "    <tr>\n",
       "      <th>2</th>\n",
       "      <td>./Train_Data\\1_Finger_Click\\Video_Test_10 (4).mp4</td>\n",
       "      <td>1_Finger_Click</td>\n",
       "      <td>./Train_Data\\1_Finger_Click\\Video_Test_10 (4).csv</td>\n",
       "      <td>./Train_Data\\1_Finger_Click\\Video_Test_10 (4)_...</td>\n",
       "    </tr>\n",
       "    <tr>\n",
       "      <th>3</th>\n",
       "      <td>./Train_Data\\1_Finger_Click\\Video_Test_10.mp4</td>\n",
       "      <td>1_Finger_Click</td>\n",
       "      <td>./Train_Data\\1_Finger_Click\\Video_Test_10.csv</td>\n",
       "      <td>./Train_Data\\1_Finger_Click\\Video_Test_10_padd...</td>\n",
       "    </tr>\n",
       "    <tr>\n",
       "      <th>4</th>\n",
       "      <td>./Train_Data\\1_Finger_Click\\Video_Test_11 (2).mp4</td>\n",
       "      <td>1_Finger_Click</td>\n",
       "      <td>./Train_Data\\1_Finger_Click\\Video_Test_11 (2).csv</td>\n",
       "      <td>./Train_Data\\1_Finger_Click\\Video_Test_11 (2)_...</td>\n",
       "    </tr>\n",
       "    <tr>\n",
       "      <th>...</th>\n",
       "      <td>...</td>\n",
       "      <td>...</td>\n",
       "      <td>...</td>\n",
       "      <td>...</td>\n",
       "    </tr>\n",
       "    <tr>\n",
       "      <th>384</th>\n",
       "      <td>./Train_Data\\Shake_Hand\\Video_Test_8.mp4</td>\n",
       "      <td>Shake_Hand</td>\n",
       "      <td>./Train_Data\\Shake_Hand\\Video_Test_8.csv</td>\n",
       "      <td>./Train_Data\\Shake_Hand\\Video_Test_8_padded.csv</td>\n",
       "    </tr>\n",
       "    <tr>\n",
       "      <th>385</th>\n",
       "      <td>./Train_Data\\Shake_Hand\\Video_Test_9 (2).mp4</td>\n",
       "      <td>Shake_Hand</td>\n",
       "      <td>./Train_Data\\Shake_Hand\\Video_Test_9 (2).csv</td>\n",
       "      <td>./Train_Data\\Shake_Hand\\Video_Test_9 (2)_padde...</td>\n",
       "    </tr>\n",
       "    <tr>\n",
       "      <th>386</th>\n",
       "      <td>./Train_Data\\Shake_Hand\\Video_Test_9 (3).mp4</td>\n",
       "      <td>Shake_Hand</td>\n",
       "      <td>./Train_Data\\Shake_Hand\\Video_Test_9 (3).csv</td>\n",
       "      <td>./Train_Data\\Shake_Hand\\Video_Test_9 (3)_padde...</td>\n",
       "    </tr>\n",
       "    <tr>\n",
       "      <th>387</th>\n",
       "      <td>./Train_Data\\Shake_Hand\\Video_Test_9 (4).mp4</td>\n",
       "      <td>Shake_Hand</td>\n",
       "      <td>./Train_Data\\Shake_Hand\\Video_Test_9 (4).csv</td>\n",
       "      <td>./Train_Data\\Shake_Hand\\Video_Test_9 (4)_padde...</td>\n",
       "    </tr>\n",
       "    <tr>\n",
       "      <th>388</th>\n",
       "      <td>./Train_Data\\Shake_Hand\\Video_Test_9.mp4</td>\n",
       "      <td>Shake_Hand</td>\n",
       "      <td>./Train_Data\\Shake_Hand\\Video_Test_9.csv</td>\n",
       "      <td>./Train_Data\\Shake_Hand\\Video_Test_9_padded.csv</td>\n",
       "    </tr>\n",
       "  </tbody>\n",
       "</table>\n",
       "<p>389 rows × 4 columns</p>\n",
       "</div>"
      ],
      "text/plain": [
       "                                             file_path          action  \\\n",
       "0    ./Train_Data\\1_Finger_Click\\Video_Test_10 (2).mp4  1_Finger_Click   \n",
       "1    ./Train_Data\\1_Finger_Click\\Video_Test_10 (3).mp4  1_Finger_Click   \n",
       "2    ./Train_Data\\1_Finger_Click\\Video_Test_10 (4).mp4  1_Finger_Click   \n",
       "3        ./Train_Data\\1_Finger_Click\\Video_Test_10.mp4  1_Finger_Click   \n",
       "4    ./Train_Data\\1_Finger_Click\\Video_Test_11 (2).mp4  1_Finger_Click   \n",
       "..                                                 ...             ...   \n",
       "384           ./Train_Data\\Shake_Hand\\Video_Test_8.mp4      Shake_Hand   \n",
       "385       ./Train_Data\\Shake_Hand\\Video_Test_9 (2).mp4      Shake_Hand   \n",
       "386       ./Train_Data\\Shake_Hand\\Video_Test_9 (3).mp4      Shake_Hand   \n",
       "387       ./Train_Data\\Shake_Hand\\Video_Test_9 (4).mp4      Shake_Hand   \n",
       "388           ./Train_Data\\Shake_Hand\\Video_Test_9.mp4      Shake_Hand   \n",
       "\n",
       "                                         csv_file_path  \\\n",
       "0    ./Train_Data\\1_Finger_Click\\Video_Test_10 (2).csv   \n",
       "1    ./Train_Data\\1_Finger_Click\\Video_Test_10 (3).csv   \n",
       "2    ./Train_Data\\1_Finger_Click\\Video_Test_10 (4).csv   \n",
       "3        ./Train_Data\\1_Finger_Click\\Video_Test_10.csv   \n",
       "4    ./Train_Data\\1_Finger_Click\\Video_Test_11 (2).csv   \n",
       "..                                                 ...   \n",
       "384           ./Train_Data\\Shake_Hand\\Video_Test_8.csv   \n",
       "385       ./Train_Data\\Shake_Hand\\Video_Test_9 (2).csv   \n",
       "386       ./Train_Data\\Shake_Hand\\Video_Test_9 (3).csv   \n",
       "387       ./Train_Data\\Shake_Hand\\Video_Test_9 (4).csv   \n",
       "388           ./Train_Data\\Shake_Hand\\Video_Test_9.csv   \n",
       "\n",
       "                                      padded_file_name  \n",
       "0    ./Train_Data\\1_Finger_Click\\Video_Test_10 (2)_...  \n",
       "1    ./Train_Data\\1_Finger_Click\\Video_Test_10 (3)_...  \n",
       "2    ./Train_Data\\1_Finger_Click\\Video_Test_10 (4)_...  \n",
       "3    ./Train_Data\\1_Finger_Click\\Video_Test_10_padd...  \n",
       "4    ./Train_Data\\1_Finger_Click\\Video_Test_11 (2)_...  \n",
       "..                                                 ...  \n",
       "384    ./Train_Data\\Shake_Hand\\Video_Test_8_padded.csv  \n",
       "385  ./Train_Data\\Shake_Hand\\Video_Test_9 (2)_padde...  \n",
       "386  ./Train_Data\\Shake_Hand\\Video_Test_9 (3)_padde...  \n",
       "387  ./Train_Data\\Shake_Hand\\Video_Test_9 (4)_padde...  \n",
       "388    ./Train_Data\\Shake_Hand\\Video_Test_9_padded.csv  \n",
       "\n",
       "[389 rows x 4 columns]"
      ]
     },
     "execution_count": 4,
     "metadata": {},
     "output_type": "execute_result"
    }
   ],
   "source": [
    "meta_data"
   ]
  },
  {
   "cell_type": "code",
   "execution_count": 5,
   "id": "d9529ca4",
   "metadata": {},
   "outputs": [],
   "source": [
    "file_list = meta_data['padded_file_name'].tolist()\n",
    "action = meta_data['action'].tolist()"
   ]
  },
  {
   "cell_type": "code",
   "execution_count": 6,
   "id": "643d4f20",
   "metadata": {},
   "outputs": [
    {
     "name": "stdout",
     "output_type": "stream",
     "text": [
      "389 389\n"
     ]
    }
   ],
   "source": [
    "print(len(file_list) , len(action))"
   ]
  },
  {
   "cell_type": "code",
   "execution_count": 7,
   "id": "c0523b76",
   "metadata": {},
   "outputs": [],
   "source": [
    "train_data = []\n",
    "target_action = []\n",
    "\n",
    "for idx,file in enumerate( file_list ):\n",
    "    d = pd.read_csv(file)\n",
    "    d = np.array(d)\n",
    "    train_data.append(d)\n",
    "    target_action.append(action[idx])"
   ]
  },
  {
   "cell_type": "code",
   "execution_count": 8,
   "id": "356f3d0f",
   "metadata": {},
   "outputs": [],
   "source": [
    "train_data = np.array(train_data)"
   ]
  },
  {
   "cell_type": "code",
   "execution_count": 9,
   "id": "ec9a615b",
   "metadata": {},
   "outputs": [
    {
     "data": {
      "text/plain": [
       "(389, 115, 63)"
      ]
     },
     "execution_count": 9,
     "metadata": {},
     "output_type": "execute_result"
    }
   ],
   "source": [
    "train_data.shape"
   ]
  },
  {
   "cell_type": "code",
   "execution_count": 10,
   "id": "875b33c2",
   "metadata": {},
   "outputs": [
    {
     "data": {
      "text/plain": [
       "['1_Finger_Click',\n",
       " '1_Finger_Click',\n",
       " '1_Finger_Click',\n",
       " '1_Finger_Click',\n",
       " '1_Finger_Click',\n",
       " '1_Finger_Click',\n",
       " '1_Finger_Click',\n",
       " '1_Finger_Click',\n",
       " '1_Finger_Click',\n",
       " '1_Finger_Click',\n",
       " '1_Finger_Click',\n",
       " '1_Finger_Click',\n",
       " '1_Finger_Click',\n",
       " '1_Finger_Click',\n",
       " '1_Finger_Click',\n",
       " '1_Finger_Click',\n",
       " '1_Finger_Click',\n",
       " '1_Finger_Click',\n",
       " '1_Finger_Click',\n",
       " '1_Finger_Click',\n",
       " '1_Finger_Click',\n",
       " '1_Finger_Click',\n",
       " '1_Finger_Click',\n",
       " '1_Finger_Click',\n",
       " '1_Finger_Click',\n",
       " '1_Finger_Click',\n",
       " '1_Finger_Click',\n",
       " '1_Finger_Click',\n",
       " '1_Finger_Click',\n",
       " '1_Finger_Click',\n",
       " '1_Finger_Click',\n",
       " '1_Finger_Click',\n",
       " '1_Finger_Click',\n",
       " '1_Finger_Click',\n",
       " '1_Finger_Click',\n",
       " '1_Finger_Click',\n",
       " '1_Finger_Click',\n",
       " '1_Finger_Click',\n",
       " '1_Finger_Click',\n",
       " '1_Finger_Click',\n",
       " '1_Finger_Click',\n",
       " '1_Finger_Click',\n",
       " '1_Finger_Click',\n",
       " '1_Finger_Click',\n",
       " '1_Finger_Click',\n",
       " '1_Finger_Click',\n",
       " '1_Finger_Click',\n",
       " '1_Finger_Click',\n",
       " '1_Finger_Click',\n",
       " '1_Finger_Click',\n",
       " '1_Finger_Click',\n",
       " '1_Finger_Click',\n",
       " '1_Finger_Click',\n",
       " '1_Finger_Click',\n",
       " '1_Finger_Click',\n",
       " '1_Finger_Click',\n",
       " '1_Finger_Click',\n",
       " '1_Finger_Click',\n",
       " '1_Finger_Click',\n",
       " '1_Finger_Click',\n",
       " '1_Finger_Click',\n",
       " '1_Finger_Click',\n",
       " '1_Finger_Click',\n",
       " '1_Finger_Click',\n",
       " '1_Finger_Click',\n",
       " '1_Finger_Click',\n",
       " '1_Finger_Click',\n",
       " '1_Finger_Click',\n",
       " '1_Finger_Click',\n",
       " '1_Finger_Click',\n",
       " '1_Finger_Click',\n",
       " '1_Finger_Click',\n",
       " '1_Finger_Click',\n",
       " '1_Finger_Click',\n",
       " '1_Finger_Click',\n",
       " '1_Finger_Click',\n",
       " '1_Finger_Click',\n",
       " '1_Finger_Click',\n",
       " '1_Finger_Click',\n",
       " '1_Finger_Click',\n",
       " '1_Finger_Click',\n",
       " '1_Finger_Click',\n",
       " '1_Finger_Click',\n",
       " '1_Finger_Click',\n",
       " '1_Finger_Click',\n",
       " '1_Finger_Click',\n",
       " '1_Finger_Click',\n",
       " '1_Finger_Click',\n",
       " '1_Finger_Click',\n",
       " '1_Finger_Click',\n",
       " '1_Finger_Click',\n",
       " '1_Finger_Click',\n",
       " '1_Finger_Click',\n",
       " '2_Fingers_Left',\n",
       " '2_Fingers_Left',\n",
       " '2_Fingers_Left',\n",
       " '2_Fingers_Left',\n",
       " '2_Fingers_Left',\n",
       " '2_Fingers_Left',\n",
       " '2_Fingers_Left',\n",
       " '2_Fingers_Left',\n",
       " '2_Fingers_Left',\n",
       " '2_Fingers_Left',\n",
       " '2_Fingers_Left',\n",
       " '2_Fingers_Left',\n",
       " '2_Fingers_Left',\n",
       " '2_Fingers_Left',\n",
       " '2_Fingers_Left',\n",
       " '2_Fingers_Left',\n",
       " '2_Fingers_Left',\n",
       " '2_Fingers_Left',\n",
       " '2_Fingers_Left',\n",
       " '2_Fingers_Left',\n",
       " '2_Fingers_Left',\n",
       " '2_Fingers_Left',\n",
       " '2_Fingers_Left',\n",
       " '2_Fingers_Left',\n",
       " '2_Fingers_Left',\n",
       " '2_Fingers_Left',\n",
       " '2_Fingers_Left',\n",
       " '2_Fingers_Left',\n",
       " '2_Fingers_Left',\n",
       " '2_Fingers_Left',\n",
       " '2_Fingers_Left',\n",
       " '2_Fingers_Left',\n",
       " '2_Fingers_Left',\n",
       " '2_Fingers_Left',\n",
       " '2_Fingers_Left',\n",
       " '2_Fingers_Left',\n",
       " '2_Fingers_Left',\n",
       " '2_Fingers_Left',\n",
       " '2_Fingers_Left',\n",
       " '2_Fingers_Left',\n",
       " '2_Fingers_Left',\n",
       " '2_Fingers_Left',\n",
       " '2_Fingers_Left',\n",
       " '2_Fingers_Left',\n",
       " '2_Fingers_Left',\n",
       " '2_Fingers_Left',\n",
       " '2_Fingers_Left',\n",
       " '2_Fingers_Left',\n",
       " '2_Fingers_Left',\n",
       " '2_Fingers_Left',\n",
       " '2_Fingers_Left',\n",
       " '2_Fingers_Left',\n",
       " '2_Fingers_Left',\n",
       " '2_Fingers_Left',\n",
       " '2_Fingers_Left',\n",
       " '2_Fingers_Left',\n",
       " '2_Fingers_Left',\n",
       " '2_Fingers_Left',\n",
       " '2_Fingers_Left',\n",
       " '2_Fingers_Left',\n",
       " '2_Fingers_Left',\n",
       " '2_Fingers_Left',\n",
       " '2_Fingers_Left',\n",
       " '2_Fingers_Left',\n",
       " '2_Fingers_Left',\n",
       " '2_Fingers_Left',\n",
       " '2_Fingers_Left',\n",
       " '2_Fingers_Left',\n",
       " '2_Fingers_Left',\n",
       " '2_Fingers_Left',\n",
       " '2_Fingers_Left',\n",
       " '2_Fingers_Left',\n",
       " '2_Fingers_Left',\n",
       " '2_Fingers_Left',\n",
       " '2_Fingers_Left',\n",
       " '2_Fingers_Left',\n",
       " '2_Fingers_Left',\n",
       " '2_Fingers_Left',\n",
       " '2_Fingers_Left',\n",
       " '2_Fingers_Left',\n",
       " '2_Fingers_Left',\n",
       " '2_Fingers_Left',\n",
       " '2_Fingers_Left',\n",
       " '2_Fingers_Left',\n",
       " '2_Fingers_Left',\n",
       " '2_Fingers_Left',\n",
       " '2_Fingers_Left',\n",
       " '2_Fingers_Left',\n",
       " '2_Fingers_Left',\n",
       " '2_Fingers_Left',\n",
       " '2_Fingers_Left',\n",
       " '2_Fingers_Left',\n",
       " '2_Fingers_Left',\n",
       " '2_Fingers_Left',\n",
       " '2_Fingers_Left',\n",
       " '2_Fingers_Right',\n",
       " '2_Fingers_Right',\n",
       " '2_Fingers_Right',\n",
       " '2_Fingers_Right',\n",
       " '2_Fingers_Right',\n",
       " '2_Fingers_Right',\n",
       " '2_Fingers_Right',\n",
       " '2_Fingers_Right',\n",
       " '2_Fingers_Right',\n",
       " '2_Fingers_Right',\n",
       " '2_Fingers_Right',\n",
       " '2_Fingers_Right',\n",
       " '2_Fingers_Right',\n",
       " '2_Fingers_Right',\n",
       " '2_Fingers_Right',\n",
       " '2_Fingers_Right',\n",
       " '2_Fingers_Right',\n",
       " '2_Fingers_Right',\n",
       " '2_Fingers_Right',\n",
       " '2_Fingers_Right',\n",
       " '2_Fingers_Right',\n",
       " '2_Fingers_Right',\n",
       " '2_Fingers_Right',\n",
       " '2_Fingers_Right',\n",
       " '2_Fingers_Right',\n",
       " '2_Fingers_Right',\n",
       " '2_Fingers_Right',\n",
       " '2_Fingers_Right',\n",
       " '2_Fingers_Right',\n",
       " '2_Fingers_Right',\n",
       " '2_Fingers_Right',\n",
       " '2_Fingers_Right',\n",
       " '2_Fingers_Right',\n",
       " '2_Fingers_Right',\n",
       " '2_Fingers_Right',\n",
       " '2_Fingers_Right',\n",
       " '2_Fingers_Right',\n",
       " '2_Fingers_Right',\n",
       " '2_Fingers_Right',\n",
       " '2_Fingers_Right',\n",
       " '2_Fingers_Right',\n",
       " '2_Fingers_Right',\n",
       " '2_Fingers_Right',\n",
       " '2_Fingers_Right',\n",
       " '2_Fingers_Right',\n",
       " '2_Fingers_Right',\n",
       " '2_Fingers_Right',\n",
       " '2_Fingers_Right',\n",
       " '2_Fingers_Right',\n",
       " '2_Fingers_Right',\n",
       " '2_Fingers_Right',\n",
       " '2_Fingers_Right',\n",
       " '2_Fingers_Right',\n",
       " '2_Fingers_Right',\n",
       " '2_Fingers_Right',\n",
       " '2_Fingers_Right',\n",
       " '2_Fingers_Right',\n",
       " '2_Fingers_Right',\n",
       " '2_Fingers_Right',\n",
       " '2_Fingers_Right',\n",
       " '2_Fingers_Right',\n",
       " '2_Fingers_Right',\n",
       " '2_Fingers_Right',\n",
       " '2_Fingers_Right',\n",
       " '2_Fingers_Right',\n",
       " '2_Fingers_Right',\n",
       " '2_Fingers_Right',\n",
       " '2_Fingers_Right',\n",
       " '2_Fingers_Right',\n",
       " '2_Fingers_Right',\n",
       " '2_Fingers_Right',\n",
       " '2_Fingers_Right',\n",
       " '2_Fingers_Right',\n",
       " '2_Fingers_Right',\n",
       " '2_Fingers_Right',\n",
       " '2_Fingers_Right',\n",
       " '2_Fingers_Right',\n",
       " '2_Fingers_Right',\n",
       " '2_Fingers_Right',\n",
       " '2_Fingers_Right',\n",
       " '2_Fingers_Right',\n",
       " '2_Fingers_Right',\n",
       " '2_Fingers_Right',\n",
       " '2_Fingers_Right',\n",
       " '2_Fingers_Right',\n",
       " '2_Fingers_Right',\n",
       " '2_Fingers_Right',\n",
       " '2_Fingers_Right',\n",
       " '2_Fingers_Right',\n",
       " '2_Fingers_Right',\n",
       " '2_Fingers_Right',\n",
       " '2_Fingers_Right',\n",
       " '2_Fingers_Right',\n",
       " '2_Fingers_Right',\n",
       " '2_Fingers_Right',\n",
       " '2_Fingers_Right',\n",
       " '2_Fingers_Right',\n",
       " '2_Fingers_Right',\n",
       " '2_Fingers_Right',\n",
       " 'Shake_Hand',\n",
       " 'Shake_Hand',\n",
       " 'Shake_Hand',\n",
       " 'Shake_Hand',\n",
       " 'Shake_Hand',\n",
       " 'Shake_Hand',\n",
       " 'Shake_Hand',\n",
       " 'Shake_Hand',\n",
       " 'Shake_Hand',\n",
       " 'Shake_Hand',\n",
       " 'Shake_Hand',\n",
       " 'Shake_Hand',\n",
       " 'Shake_Hand',\n",
       " 'Shake_Hand',\n",
       " 'Shake_Hand',\n",
       " 'Shake_Hand',\n",
       " 'Shake_Hand',\n",
       " 'Shake_Hand',\n",
       " 'Shake_Hand',\n",
       " 'Shake_Hand',\n",
       " 'Shake_Hand',\n",
       " 'Shake_Hand',\n",
       " 'Shake_Hand',\n",
       " 'Shake_Hand',\n",
       " 'Shake_Hand',\n",
       " 'Shake_Hand',\n",
       " 'Shake_Hand',\n",
       " 'Shake_Hand',\n",
       " 'Shake_Hand',\n",
       " 'Shake_Hand',\n",
       " 'Shake_Hand',\n",
       " 'Shake_Hand',\n",
       " 'Shake_Hand',\n",
       " 'Shake_Hand',\n",
       " 'Shake_Hand',\n",
       " 'Shake_Hand',\n",
       " 'Shake_Hand',\n",
       " 'Shake_Hand',\n",
       " 'Shake_Hand',\n",
       " 'Shake_Hand',\n",
       " 'Shake_Hand',\n",
       " 'Shake_Hand',\n",
       " 'Shake_Hand',\n",
       " 'Shake_Hand',\n",
       " 'Shake_Hand',\n",
       " 'Shake_Hand',\n",
       " 'Shake_Hand',\n",
       " 'Shake_Hand',\n",
       " 'Shake_Hand',\n",
       " 'Shake_Hand',\n",
       " 'Shake_Hand',\n",
       " 'Shake_Hand',\n",
       " 'Shake_Hand',\n",
       " 'Shake_Hand',\n",
       " 'Shake_Hand',\n",
       " 'Shake_Hand',\n",
       " 'Shake_Hand',\n",
       " 'Shake_Hand',\n",
       " 'Shake_Hand',\n",
       " 'Shake_Hand',\n",
       " 'Shake_Hand',\n",
       " 'Shake_Hand',\n",
       " 'Shake_Hand',\n",
       " 'Shake_Hand',\n",
       " 'Shake_Hand',\n",
       " 'Shake_Hand',\n",
       " 'Shake_Hand',\n",
       " 'Shake_Hand',\n",
       " 'Shake_Hand',\n",
       " 'Shake_Hand',\n",
       " 'Shake_Hand',\n",
       " 'Shake_Hand',\n",
       " 'Shake_Hand',\n",
       " 'Shake_Hand',\n",
       " 'Shake_Hand',\n",
       " 'Shake_Hand',\n",
       " 'Shake_Hand',\n",
       " 'Shake_Hand',\n",
       " 'Shake_Hand',\n",
       " 'Shake_Hand',\n",
       " 'Shake_Hand',\n",
       " 'Shake_Hand',\n",
       " 'Shake_Hand',\n",
       " 'Shake_Hand',\n",
       " 'Shake_Hand',\n",
       " 'Shake_Hand',\n",
       " 'Shake_Hand',\n",
       " 'Shake_Hand',\n",
       " 'Shake_Hand',\n",
       " 'Shake_Hand',\n",
       " 'Shake_Hand',\n",
       " 'Shake_Hand',\n",
       " 'Shake_Hand',\n",
       " 'Shake_Hand',\n",
       " 'Shake_Hand',\n",
       " 'Shake_Hand',\n",
       " 'Shake_Hand',\n",
       " 'Shake_Hand',\n",
       " 'Shake_Hand',\n",
       " 'Shake_Hand',\n",
       " 'Shake_Hand',\n",
       " 'Shake_Hand']"
      ]
     },
     "execution_count": 10,
     "metadata": {},
     "output_type": "execute_result"
    }
   ],
   "source": [
    "target_action"
   ]
  },
  {
   "cell_type": "code",
   "execution_count": 11,
   "id": "f6535ba2",
   "metadata": {},
   "outputs": [
    {
     "data": {
      "text/plain": [
       "array(['1_Finger_Click', '2_Fingers_Left', '2_Fingers_Right',\n",
       "       'Shake_Hand'], dtype='<U15')"
      ]
     },
     "execution_count": 11,
     "metadata": {},
     "output_type": "execute_result"
    }
   ],
   "source": [
    "np.unique(target_action)"
   ]
  },
  {
   "cell_type": "code",
   "execution_count": 12,
   "id": "32ba1569",
   "metadata": {},
   "outputs": [],
   "source": [
    "le = LabelEncoder()"
   ]
  },
  {
   "cell_type": "code",
   "execution_count": 13,
   "id": "099a858e",
   "metadata": {},
   "outputs": [],
   "source": [
    "le_action = le.fit(target_action)"
   ]
  },
  {
   "cell_type": "code",
   "execution_count": 14,
   "id": "ae0dacbd",
   "metadata": {},
   "outputs": [],
   "source": [
    "le_action = le.transform(target_action)"
   ]
  },
  {
   "cell_type": "code",
   "execution_count": 15,
   "id": "cdeef2ff",
   "metadata": {},
   "outputs": [
    {
     "data": {
      "text/plain": [
       "array([[1., 0., 0., 0.],\n",
       "       [1., 0., 0., 0.],\n",
       "       [1., 0., 0., 0.],\n",
       "       ...,\n",
       "       [0., 0., 0., 1.],\n",
       "       [0., 0., 0., 1.],\n",
       "       [0., 0., 0., 1.]], dtype=float32)"
      ]
     },
     "execution_count": 15,
     "metadata": {},
     "output_type": "execute_result"
    }
   ],
   "source": [
    "y = tf.keras.utils.to_categorical(le_action, num_classes=4)\n",
    "y"
   ]
  },
  {
   "cell_type": "code",
   "execution_count": 16,
   "id": "b9bb731e",
   "metadata": {},
   "outputs": [
    {
     "data": {
      "text/plain": [
       "array(['1_Finger_Click', '2_Fingers_Left', '2_Fingers_Right',\n",
       "       'Shake_Hand'], dtype='<U15')"
      ]
     },
     "execution_count": 16,
     "metadata": {},
     "output_type": "execute_result"
    }
   ],
   "source": [
    "le.classes_"
   ]
  },
  {
   "cell_type": "code",
   "execution_count": null,
   "id": "8784437e",
   "metadata": {},
   "outputs": [],
   "source": []
  },
  {
   "cell_type": "code",
   "execution_count": null,
   "id": "dac0ccb7",
   "metadata": {},
   "outputs": [],
   "source": []
  },
  {
   "cell_type": "code",
   "execution_count": 17,
   "id": "b0a14076",
   "metadata": {},
   "outputs": [],
   "source": [
    "X_train, X_test, y_train, y_test = train_test_split(train_data, y, test_size=0.25 , stratify = y)"
   ]
  },
  {
   "cell_type": "code",
   "execution_count": 18,
   "id": "5f93ec25",
   "metadata": {},
   "outputs": [
    {
     "name": "stdout",
     "output_type": "stream",
     "text": [
      "(291, 115, 63)\n",
      "(98, 115, 63)\n"
     ]
    }
   ],
   "source": [
    "print( X_train.shape )\n",
    "print( X_test.shape)"
   ]
  },
  {
   "cell_type": "code",
   "execution_count": 19,
   "id": "069eb1ea",
   "metadata": {},
   "outputs": [
    {
     "name": "stdout",
     "output_type": "stream",
     "text": [
      "(291, 4)\n",
      "(98, 4)\n"
     ]
    }
   ],
   "source": [
    "print( y_train.shape )\n",
    "print( y_test.shape)"
   ]
  },
  {
   "cell_type": "code",
   "execution_count": null,
   "id": "56e8b6bd",
   "metadata": {},
   "outputs": [],
   "source": []
  },
  {
   "cell_type": "code",
   "execution_count": 20,
   "id": "9003c38c",
   "metadata": {},
   "outputs": [],
   "source": [
    "def Define_Model():\n",
    "    model = Sequential()\n",
    "    model.add(LSTM(256, return_sequences=True, activation='relu', input_shape=(DATA_FRAMES_PER_DATA,63)))\n",
    "    model.add(LSTM(128, return_sequences=True, activation='relu'))\n",
    "    model.add(LSTM(64, return_sequences=False, activation='relu'))\n",
    "    model.add(Dense(64, activation='relu'))\n",
    "    model.add(Dense(32, activation='relu'))\n",
    "    model.add(Dense(4, activation='softmax'))\n",
    "\n",
    "    return model"
   ]
  },
  {
   "cell_type": "code",
   "execution_count": 21,
   "id": "bca6123a",
   "metadata": {},
   "outputs": [],
   "source": [
    "def Define_Model_Rev_01():\n",
    "    model = Sequential()\n",
    "    model.add(LSTM(64, activation='relu', input_shape=(DATA_FRAMES_PER_DATA,63)))\n",
    "    model.add(Dense(32, activation='relu'))\n",
    "    model.add(Dense(4, activation='softmax'))\n",
    "\n",
    "    return model"
   ]
  },
  {
   "cell_type": "code",
   "execution_count": 22,
   "id": "d69be3de",
   "metadata": {},
   "outputs": [],
   "source": [
    "def Define_Model_Rev_02():\n",
    "    model = Sequential()\n",
    "    model.add(Bidirectional(LSTM(128, return_sequences=True, activation='tanh', input_shape=(DATA_FRAMES_PER_DATA,63))))\n",
    "    model.add(Bidirectional(LSTM(64, return_sequences=True, activation='tanh')))\n",
    "    model.add(Bidirectional(LSTM(32, return_sequences=False, activation='tanh')))\n",
    "    model.add(Dense(64, activation='relu'))\n",
    "    model.add(Dense(32, activation='relu'))\n",
    "    model.add(Dense(4, activation='softmax'))\n",
    "\n",
    "    return model"
   ]
  },
  {
   "cell_type": "code",
   "execution_count": 23,
   "id": "f07bf13a",
   "metadata": {},
   "outputs": [],
   "source": [
    "#model = Define_Model_Rev_01()\n",
    "#model = Define_Model()\n",
    "model = Define_Model_Rev_02()"
   ]
  },
  {
   "cell_type": "code",
   "execution_count": 24,
   "id": "517f5c97",
   "metadata": {},
   "outputs": [],
   "source": [
    "\"\"\"\n",
    "model.compile(  optimizer='Adam', \n",
    "                loss='categorical_crossentropy', \n",
    "                metrics=['categorical_accuracy'])\n",
    "\"\"\"\n",
    "model.compile(\n",
    "    optimizer=tf.keras.optimizers.Adam(1e-3),\n",
    "    loss='categorical_crossentropy',\n",
    "    metrics=['accuracy']\n",
    ")\n"
   ]
  },
  {
   "cell_type": "code",
   "execution_count": 25,
   "id": "288522c9",
   "metadata": {},
   "outputs": [],
   "source": [
    "model.build( input_shape=(None, DATA_FRAMES_PER_DATA,63) )"
   ]
  },
  {
   "cell_type": "code",
   "execution_count": 26,
   "id": "42231a85",
   "metadata": {},
   "outputs": [
    {
     "name": "stdout",
     "output_type": "stream",
     "text": [
      "Model: \"sequential\"\n",
      "_________________________________________________________________\n",
      "Layer (type)                 Output Shape              Param #   \n",
      "=================================================================\n",
      "bidirectional (Bidirectional (None, 115, 256)          196608    \n",
      "_________________________________________________________________\n",
      "bidirectional_1 (Bidirection (None, 115, 128)          164352    \n",
      "_________________________________________________________________\n",
      "bidirectional_2 (Bidirection (None, 64)                41216     \n",
      "_________________________________________________________________\n",
      "dense (Dense)                (None, 64)                4160      \n",
      "_________________________________________________________________\n",
      "dense_1 (Dense)              (None, 32)                2080      \n",
      "_________________________________________________________________\n",
      "dense_2 (Dense)              (None, 4)                 132       \n",
      "=================================================================\n",
      "Total params: 408,548\n",
      "Trainable params: 408,548\n",
      "Non-trainable params: 0\n",
      "_________________________________________________________________\n"
     ]
    }
   ],
   "source": [
    "model.summary()"
   ]
  },
  {
   "cell_type": "code",
   "execution_count": 27,
   "id": "e9d6d2f9",
   "metadata": {},
   "outputs": [],
   "source": [
    "log_dir = os.path.join('Logs')\n",
    "CHECKPOINT_PATH = os.path.join('CheckPoints_Hand_Gesture_Ver_00')\n",
    "tb_callback = TensorBoard(log_dir=log_dir)\n",
    "\n",
    "cp = ModelCheckpoint(filepath=CHECKPOINT_PATH, \n",
    "                     monitor='val_accuracy',                     \n",
    "                     save_best_only = True,\n",
    "                     verbose = 1)"
   ]
  },
  {
   "cell_type": "code",
   "execution_count": null,
   "id": "a4e9bf81",
   "metadata": {},
   "outputs": [],
   "source": []
  },
  {
   "cell_type": "code",
   "execution_count": 28,
   "id": "5b0727c9",
   "metadata": {},
   "outputs": [
    {
     "name": "stdout",
     "output_type": "stream",
     "text": [
      "Epoch 1/2000\n",
      "10/10 [==============================] - 7s 181ms/step - loss: 1.3401 - accuracy: 0.4124 - val_loss: 1.2626 - val_accuracy: 0.5000\n",
      "\n",
      "Epoch 00001: val_accuracy improved from -inf to 0.50000, saving model to CheckPoints_Hand_Gesture_Ver_00\n"
     ]
    },
    {
     "name": "stderr",
     "output_type": "stream",
     "text": [
      "WARNING:absl:Found untraced functions such as lstm_cell_1_layer_call_and_return_conditional_losses, lstm_cell_1_layer_call_fn, lstm_cell_2_layer_call_and_return_conditional_losses, lstm_cell_2_layer_call_fn, lstm_cell_4_layer_call_and_return_conditional_losses while saving (showing 5 of 30). These functions will not be directly callable after loading.\n"
     ]
    },
    {
     "name": "stdout",
     "output_type": "stream",
     "text": [
      "INFO:tensorflow:Assets written to: CheckPoints_Hand_Gesture_Ver_00\\assets\n"
     ]
    },
    {
     "name": "stderr",
     "output_type": "stream",
     "text": [
      "INFO:tensorflow:Assets written to: CheckPoints_Hand_Gesture_Ver_00\\assets\n"
     ]
    },
    {
     "name": "stdout",
     "output_type": "stream",
     "text": [
      "Epoch 2/2000\n",
      "10/10 [==============================] - 0s 42ms/step - loss: 1.1994 - accuracy: 0.4845 - val_loss: 1.2533 - val_accuracy: 0.4082\n",
      "\n",
      "Epoch 00002: val_accuracy did not improve from 0.50000\n",
      "Epoch 3/2000\n",
      "10/10 [==============================] - 0s 42ms/step - loss: 1.0992 - accuracy: 0.5258 - val_loss: 1.1289 - val_accuracy: 0.4388\n",
      "\n",
      "Epoch 00003: val_accuracy did not improve from 0.50000\n",
      "Epoch 4/2000\n",
      "10/10 [==============================] - 0s 41ms/step - loss: 0.9655 - accuracy: 0.6151 - val_loss: 0.9343 - val_accuracy: 0.5102\n",
      "\n",
      "Epoch 00004: val_accuracy improved from 0.50000 to 0.51020, saving model to CheckPoints_Hand_Gesture_Ver_00\n"
     ]
    },
    {
     "name": "stderr",
     "output_type": "stream",
     "text": [
      "WARNING:absl:Found untraced functions such as lstm_cell_1_layer_call_and_return_conditional_losses, lstm_cell_1_layer_call_fn, lstm_cell_2_layer_call_and_return_conditional_losses, lstm_cell_2_layer_call_fn, lstm_cell_4_layer_call_and_return_conditional_losses while saving (showing 5 of 30). These functions will not be directly callable after loading.\n"
     ]
    },
    {
     "name": "stdout",
     "output_type": "stream",
     "text": [
      "INFO:tensorflow:Assets written to: CheckPoints_Hand_Gesture_Ver_00\\assets\n"
     ]
    },
    {
     "name": "stderr",
     "output_type": "stream",
     "text": [
      "INFO:tensorflow:Assets written to: CheckPoints_Hand_Gesture_Ver_00\\assets\n"
     ]
    },
    {
     "name": "stdout",
     "output_type": "stream",
     "text": [
      "Epoch 5/2000\n",
      "10/10 [==============================] - 0s 42ms/step - loss: 0.8116 - accuracy: 0.7251 - val_loss: 0.8239 - val_accuracy: 0.6122\n",
      "\n",
      "Epoch 00005: val_accuracy improved from 0.51020 to 0.61224, saving model to CheckPoints_Hand_Gesture_Ver_00\n"
     ]
    },
    {
     "name": "stderr",
     "output_type": "stream",
     "text": [
      "WARNING:absl:Found untraced functions such as lstm_cell_1_layer_call_and_return_conditional_losses, lstm_cell_1_layer_call_fn, lstm_cell_2_layer_call_and_return_conditional_losses, lstm_cell_2_layer_call_fn, lstm_cell_4_layer_call_and_return_conditional_losses while saving (showing 5 of 30). These functions will not be directly callable after loading.\n"
     ]
    },
    {
     "name": "stdout",
     "output_type": "stream",
     "text": [
      "INFO:tensorflow:Assets written to: CheckPoints_Hand_Gesture_Ver_00\\assets\n"
     ]
    },
    {
     "name": "stderr",
     "output_type": "stream",
     "text": [
      "INFO:tensorflow:Assets written to: CheckPoints_Hand_Gesture_Ver_00\\assets\n"
     ]
    },
    {
     "name": "stdout",
     "output_type": "stream",
     "text": [
      "Epoch 6/2000\n",
      "10/10 [==============================] - 0s 43ms/step - loss: 0.6971 - accuracy: 0.7388 - val_loss: 0.5423 - val_accuracy: 0.8163\n",
      "\n",
      "Epoch 00006: val_accuracy improved from 0.61224 to 0.81633, saving model to CheckPoints_Hand_Gesture_Ver_00\n"
     ]
    },
    {
     "name": "stderr",
     "output_type": "stream",
     "text": [
      "WARNING:absl:Found untraced functions such as lstm_cell_1_layer_call_and_return_conditional_losses, lstm_cell_1_layer_call_fn, lstm_cell_2_layer_call_and_return_conditional_losses, lstm_cell_2_layer_call_fn, lstm_cell_4_layer_call_and_return_conditional_losses while saving (showing 5 of 30). These functions will not be directly callable after loading.\n"
     ]
    },
    {
     "name": "stdout",
     "output_type": "stream",
     "text": [
      "INFO:tensorflow:Assets written to: CheckPoints_Hand_Gesture_Ver_00\\assets\n"
     ]
    },
    {
     "name": "stderr",
     "output_type": "stream",
     "text": [
      "INFO:tensorflow:Assets written to: CheckPoints_Hand_Gesture_Ver_00\\assets\n"
     ]
    },
    {
     "name": "stdout",
     "output_type": "stream",
     "text": [
      "Epoch 7/2000\n",
      "10/10 [==============================] - 0s 42ms/step - loss: 0.6130 - accuracy: 0.7801 - val_loss: 0.4424 - val_accuracy: 0.8571\n",
      "\n",
      "Epoch 00007: val_accuracy improved from 0.81633 to 0.85714, saving model to CheckPoints_Hand_Gesture_Ver_00\n"
     ]
    },
    {
     "name": "stderr",
     "output_type": "stream",
     "text": [
      "WARNING:absl:Found untraced functions such as lstm_cell_1_layer_call_and_return_conditional_losses, lstm_cell_1_layer_call_fn, lstm_cell_2_layer_call_and_return_conditional_losses, lstm_cell_2_layer_call_fn, lstm_cell_4_layer_call_and_return_conditional_losses while saving (showing 5 of 30). These functions will not be directly callable after loading.\n"
     ]
    },
    {
     "name": "stdout",
     "output_type": "stream",
     "text": [
      "INFO:tensorflow:Assets written to: CheckPoints_Hand_Gesture_Ver_00\\assets\n"
     ]
    },
    {
     "name": "stderr",
     "output_type": "stream",
     "text": [
      "INFO:tensorflow:Assets written to: CheckPoints_Hand_Gesture_Ver_00\\assets\n"
     ]
    },
    {
     "name": "stdout",
     "output_type": "stream",
     "text": [
      "Epoch 8/2000\n",
      "10/10 [==============================] - 0s 42ms/step - loss: 0.4498 - accuracy: 0.8763 - val_loss: 0.3313 - val_accuracy: 0.8980\n",
      "\n",
      "Epoch 00008: val_accuracy improved from 0.85714 to 0.89796, saving model to CheckPoints_Hand_Gesture_Ver_00\n"
     ]
    },
    {
     "name": "stderr",
     "output_type": "stream",
     "text": [
      "WARNING:absl:Found untraced functions such as lstm_cell_1_layer_call_and_return_conditional_losses, lstm_cell_1_layer_call_fn, lstm_cell_2_layer_call_and_return_conditional_losses, lstm_cell_2_layer_call_fn, lstm_cell_4_layer_call_and_return_conditional_losses while saving (showing 5 of 30). These functions will not be directly callable after loading.\n"
     ]
    },
    {
     "name": "stdout",
     "output_type": "stream",
     "text": [
      "INFO:tensorflow:Assets written to: CheckPoints_Hand_Gesture_Ver_00\\assets\n"
     ]
    },
    {
     "name": "stderr",
     "output_type": "stream",
     "text": [
      "INFO:tensorflow:Assets written to: CheckPoints_Hand_Gesture_Ver_00\\assets\n"
     ]
    },
    {
     "name": "stdout",
     "output_type": "stream",
     "text": [
      "Epoch 9/2000\n",
      "10/10 [==============================] - 0s 42ms/step - loss: 0.6163 - accuracy: 0.7869 - val_loss: 0.3195 - val_accuracy: 0.9082\n",
      "\n",
      "Epoch 00009: val_accuracy improved from 0.89796 to 0.90816, saving model to CheckPoints_Hand_Gesture_Ver_00\n"
     ]
    },
    {
     "name": "stderr",
     "output_type": "stream",
     "text": [
      "WARNING:absl:Found untraced functions such as lstm_cell_1_layer_call_and_return_conditional_losses, lstm_cell_1_layer_call_fn, lstm_cell_2_layer_call_and_return_conditional_losses, lstm_cell_2_layer_call_fn, lstm_cell_4_layer_call_and_return_conditional_losses while saving (showing 5 of 30). These functions will not be directly callable after loading.\n"
     ]
    },
    {
     "name": "stdout",
     "output_type": "stream",
     "text": [
      "INFO:tensorflow:Assets written to: CheckPoints_Hand_Gesture_Ver_00\\assets\n"
     ]
    },
    {
     "name": "stderr",
     "output_type": "stream",
     "text": [
      "INFO:tensorflow:Assets written to: CheckPoints_Hand_Gesture_Ver_00\\assets\n"
     ]
    },
    {
     "name": "stdout",
     "output_type": "stream",
     "text": [
      "Epoch 10/2000\n",
      "10/10 [==============================] - 0s 42ms/step - loss: 0.4396 - accuracy: 0.8419 - val_loss: 0.3986 - val_accuracy: 0.8673\n",
      "\n",
      "Epoch 00010: val_accuracy did not improve from 0.90816\n",
      "Epoch 11/2000\n",
      "10/10 [==============================] - 0s 42ms/step - loss: 0.4750 - accuracy: 0.8351 - val_loss: 0.4060 - val_accuracy: 0.8571\n",
      "\n",
      "Epoch 00011: val_accuracy did not improve from 0.90816\n",
      "Epoch 12/2000\n",
      "10/10 [==============================] - 0s 42ms/step - loss: 0.3731 - accuracy: 0.8763 - val_loss: 0.3412 - val_accuracy: 0.8776\n",
      "\n",
      "Epoch 00012: val_accuracy did not improve from 0.90816\n",
      "Epoch 13/2000\n",
      "10/10 [==============================] - 0s 42ms/step - loss: 0.3067 - accuracy: 0.9175 - val_loss: 0.3185 - val_accuracy: 0.8878\n",
      "\n",
      "Epoch 00013: val_accuracy did not improve from 0.90816\n",
      "Epoch 14/2000\n",
      "10/10 [==============================] - 0s 42ms/step - loss: 0.3288 - accuracy: 0.8900 - val_loss: 0.2752 - val_accuracy: 0.9082\n",
      "\n",
      "Epoch 00014: val_accuracy did not improve from 0.90816\n",
      "Epoch 15/2000\n",
      "10/10 [==============================] - 0s 42ms/step - loss: 0.2713 - accuracy: 0.9038 - val_loss: 0.3092 - val_accuracy: 0.9082\n",
      "\n",
      "Epoch 00015: val_accuracy did not improve from 0.90816\n",
      "Epoch 16/2000\n",
      "10/10 [==============================] - 0s 42ms/step - loss: 0.2607 - accuracy: 0.9244 - val_loss: 0.2166 - val_accuracy: 0.9388\n",
      "\n",
      "Epoch 00016: val_accuracy improved from 0.90816 to 0.93878, saving model to CheckPoints_Hand_Gesture_Ver_00\n"
     ]
    },
    {
     "name": "stderr",
     "output_type": "stream",
     "text": [
      "WARNING:absl:Found untraced functions such as lstm_cell_1_layer_call_and_return_conditional_losses, lstm_cell_1_layer_call_fn, lstm_cell_2_layer_call_and_return_conditional_losses, lstm_cell_2_layer_call_fn, lstm_cell_4_layer_call_and_return_conditional_losses while saving (showing 5 of 30). These functions will not be directly callable after loading.\n"
     ]
    },
    {
     "name": "stdout",
     "output_type": "stream",
     "text": [
      "INFO:tensorflow:Assets written to: CheckPoints_Hand_Gesture_Ver_00\\assets\n"
     ]
    },
    {
     "name": "stderr",
     "output_type": "stream",
     "text": [
      "INFO:tensorflow:Assets written to: CheckPoints_Hand_Gesture_Ver_00\\assets\n"
     ]
    },
    {
     "name": "stdout",
     "output_type": "stream",
     "text": [
      "Epoch 17/2000\n",
      "10/10 [==============================] - 0s 43ms/step - loss: 0.2057 - accuracy: 0.9278 - val_loss: 0.2626 - val_accuracy: 0.9184\n",
      "\n",
      "Epoch 00017: val_accuracy did not improve from 0.93878\n",
      "Epoch 18/2000\n",
      "10/10 [==============================] - 0s 42ms/step - loss: 0.2150 - accuracy: 0.9210 - val_loss: 0.2156 - val_accuracy: 0.9184\n",
      "\n",
      "Epoch 00018: val_accuracy did not improve from 0.93878\n",
      "Epoch 19/2000\n",
      "10/10 [==============================] - 0s 43ms/step - loss: 0.2423 - accuracy: 0.9278 - val_loss: 0.2134 - val_accuracy: 0.9388\n",
      "\n",
      "Epoch 00019: val_accuracy did not improve from 0.93878\n",
      "Epoch 20/2000\n",
      "10/10 [==============================] - 0s 39ms/step - loss: 0.2297 - accuracy: 0.9278 - val_loss: 0.1725 - val_accuracy: 0.9592\n",
      "\n",
      "Epoch 00020: val_accuracy improved from 0.93878 to 0.95918, saving model to CheckPoints_Hand_Gesture_Ver_00\n"
     ]
    },
    {
     "name": "stderr",
     "output_type": "stream",
     "text": [
      "WARNING:absl:Found untraced functions such as lstm_cell_1_layer_call_and_return_conditional_losses, lstm_cell_1_layer_call_fn, lstm_cell_2_layer_call_and_return_conditional_losses, lstm_cell_2_layer_call_fn, lstm_cell_4_layer_call_and_return_conditional_losses while saving (showing 5 of 30). These functions will not be directly callable after loading.\n"
     ]
    },
    {
     "name": "stdout",
     "output_type": "stream",
     "text": [
      "INFO:tensorflow:Assets written to: CheckPoints_Hand_Gesture_Ver_00\\assets\n"
     ]
    },
    {
     "name": "stderr",
     "output_type": "stream",
     "text": [
      "INFO:tensorflow:Assets written to: CheckPoints_Hand_Gesture_Ver_00\\assets\n"
     ]
    },
    {
     "name": "stdout",
     "output_type": "stream",
     "text": [
      "Epoch 21/2000\n",
      "10/10 [==============================] - 0s 43ms/step - loss: 0.1405 - accuracy: 0.9656 - val_loss: 0.1253 - val_accuracy: 0.9694\n",
      "\n",
      "Epoch 00021: val_accuracy improved from 0.95918 to 0.96939, saving model to CheckPoints_Hand_Gesture_Ver_00\n"
     ]
    },
    {
     "name": "stderr",
     "output_type": "stream",
     "text": [
      "WARNING:absl:Found untraced functions such as lstm_cell_1_layer_call_and_return_conditional_losses, lstm_cell_1_layer_call_fn, lstm_cell_2_layer_call_and_return_conditional_losses, lstm_cell_2_layer_call_fn, lstm_cell_4_layer_call_and_return_conditional_losses while saving (showing 5 of 30). These functions will not be directly callable after loading.\n"
     ]
    },
    {
     "name": "stdout",
     "output_type": "stream",
     "text": [
      "INFO:tensorflow:Assets written to: CheckPoints_Hand_Gesture_Ver_00\\assets\n"
     ]
    },
    {
     "name": "stderr",
     "output_type": "stream",
     "text": [
      "INFO:tensorflow:Assets written to: CheckPoints_Hand_Gesture_Ver_00\\assets\n"
     ]
    },
    {
     "name": "stdout",
     "output_type": "stream",
     "text": [
      "Epoch 22/2000\n",
      "10/10 [==============================] - 0s 42ms/step - loss: 0.1602 - accuracy: 0.9416 - val_loss: 0.1779 - val_accuracy: 0.9388\n",
      "\n",
      "Epoch 00022: val_accuracy did not improve from 0.96939\n",
      "Epoch 23/2000\n",
      "10/10 [==============================] - 0s 44ms/step - loss: 0.1561 - accuracy: 0.9450 - val_loss: 0.0920 - val_accuracy: 0.9796\n",
      "\n",
      "Epoch 00023: val_accuracy improved from 0.96939 to 0.97959, saving model to CheckPoints_Hand_Gesture_Ver_00\n"
     ]
    },
    {
     "name": "stderr",
     "output_type": "stream",
     "text": [
      "WARNING:absl:Found untraced functions such as lstm_cell_1_layer_call_and_return_conditional_losses, lstm_cell_1_layer_call_fn, lstm_cell_2_layer_call_and_return_conditional_losses, lstm_cell_2_layer_call_fn, lstm_cell_4_layer_call_and_return_conditional_losses while saving (showing 5 of 30). These functions will not be directly callable after loading.\n"
     ]
    },
    {
     "name": "stdout",
     "output_type": "stream",
     "text": [
      "INFO:tensorflow:Assets written to: CheckPoints_Hand_Gesture_Ver_00\\assets\n"
     ]
    },
    {
     "name": "stderr",
     "output_type": "stream",
     "text": [
      "INFO:tensorflow:Assets written to: CheckPoints_Hand_Gesture_Ver_00\\assets\n"
     ]
    },
    {
     "name": "stdout",
     "output_type": "stream",
     "text": [
      "Epoch 24/2000\n",
      "10/10 [==============================] - 0s 42ms/step - loss: 0.1114 - accuracy: 0.9691 - val_loss: 0.1326 - val_accuracy: 0.9490\n",
      "\n",
      "Epoch 00024: val_accuracy did not improve from 0.97959\n",
      "Epoch 25/2000\n",
      "10/10 [==============================] - 0s 42ms/step - loss: 0.1194 - accuracy: 0.9553 - val_loss: 0.1855 - val_accuracy: 0.9490\n",
      "\n",
      "Epoch 00025: val_accuracy did not improve from 0.97959\n",
      "Epoch 26/2000\n",
      "10/10 [==============================] - 0s 42ms/step - loss: 0.5457 - accuracy: 0.8591 - val_loss: 0.6200 - val_accuracy: 0.7959\n",
      "\n",
      "Epoch 00026: val_accuracy did not improve from 0.97959\n",
      "Epoch 27/2000\n",
      "10/10 [==============================] - 0s 40ms/step - loss: 0.3533 - accuracy: 0.9003 - val_loss: 0.6065 - val_accuracy: 0.7449\n",
      "\n",
      "Epoch 00027: val_accuracy did not improve from 0.97959\n",
      "Epoch 28/2000\n",
      "10/10 [==============================] - 0s 41ms/step - loss: 0.2984 - accuracy: 0.8832 - val_loss: 0.3315 - val_accuracy: 0.8878\n",
      "\n",
      "Epoch 00028: val_accuracy did not improve from 0.97959\n",
      "Epoch 29/2000\n",
      "10/10 [==============================] - 0s 41ms/step - loss: 0.2879 - accuracy: 0.9175 - val_loss: 0.4583 - val_accuracy: 0.8469\n",
      "\n",
      "Epoch 00029: val_accuracy did not improve from 0.97959\n",
      "Epoch 30/2000\n",
      "10/10 [==============================] - 0s 42ms/step - loss: 0.2127 - accuracy: 0.9313 - val_loss: 0.1830 - val_accuracy: 0.9490\n",
      "\n",
      "Epoch 00030: val_accuracy did not improve from 0.97959\n",
      "Epoch 31/2000\n",
      "10/10 [==============================] - 0s 42ms/step - loss: 0.1398 - accuracy: 0.9622 - val_loss: 0.1254 - val_accuracy: 0.9694\n",
      "\n",
      "Epoch 00031: val_accuracy did not improve from 0.97959\n",
      "Epoch 32/2000\n",
      "10/10 [==============================] - 0s 41ms/step - loss: 0.0754 - accuracy: 0.9759 - val_loss: 0.1265 - val_accuracy: 0.9490\n",
      "\n",
      "Epoch 00032: val_accuracy did not improve from 0.97959\n",
      "Epoch 33/2000\n",
      "10/10 [==============================] - 0s 42ms/step - loss: 0.1338 - accuracy: 0.9622 - val_loss: 0.1827 - val_accuracy: 0.9388\n",
      "\n",
      "Epoch 00033: val_accuracy did not improve from 0.97959\n",
      "Epoch 34/2000\n",
      "10/10 [==============================] - 0s 41ms/step - loss: 0.1562 - accuracy: 0.9588 - val_loss: 0.1647 - val_accuracy: 0.9490\n",
      "\n",
      "Epoch 00034: val_accuracy did not improve from 0.97959\n",
      "Epoch 35/2000\n",
      "10/10 [==============================] - 0s 39ms/step - loss: 0.1652 - accuracy: 0.9519 - val_loss: 0.1364 - val_accuracy: 0.9490\n",
      "\n",
      "Epoch 00035: val_accuracy did not improve from 0.97959\n",
      "Epoch 36/2000\n",
      "10/10 [==============================] - 0s 42ms/step - loss: 0.1466 - accuracy: 0.9553 - val_loss: 0.2282 - val_accuracy: 0.9388\n",
      "\n",
      "Epoch 00036: val_accuracy did not improve from 0.97959\n",
      "Epoch 37/2000\n",
      "10/10 [==============================] - 0s 42ms/step - loss: 0.1387 - accuracy: 0.9725 - val_loss: 0.1778 - val_accuracy: 0.9592\n",
      "\n",
      "Epoch 00037: val_accuracy did not improve from 0.97959\n",
      "Epoch 38/2000\n",
      "10/10 [==============================] - 0s 42ms/step - loss: 0.0971 - accuracy: 0.9725 - val_loss: 0.3873 - val_accuracy: 0.9082\n",
      "\n",
      "Epoch 00038: val_accuracy did not improve from 0.97959\n",
      "Epoch 39/2000\n",
      "10/10 [==============================] - 0s 44ms/step - loss: 0.1060 - accuracy: 0.9691 - val_loss: 0.0948 - val_accuracy: 0.9796\n",
      "\n",
      "Epoch 00039: val_accuracy did not improve from 0.97959\n",
      "Epoch 40/2000\n",
      "10/10 [==============================] - 0s 42ms/step - loss: 0.0561 - accuracy: 0.9828 - val_loss: 0.0627 - val_accuracy: 0.9796\n",
      "\n",
      "Epoch 00040: val_accuracy did not improve from 0.97959\n",
      "Epoch 41/2000\n",
      "10/10 [==============================] - 0s 41ms/step - loss: 0.0489 - accuracy: 0.9897 - val_loss: 0.1453 - val_accuracy: 0.9490\n",
      "\n",
      "Epoch 00041: val_accuracy did not improve from 0.97959\n",
      "Epoch 42/2000\n",
      "10/10 [==============================] - 0s 42ms/step - loss: 0.0452 - accuracy: 0.9897 - val_loss: 0.0613 - val_accuracy: 0.9796\n",
      "\n",
      "Epoch 00042: val_accuracy did not improve from 0.97959\n",
      "Epoch 43/2000\n",
      "10/10 [==============================] - 0s 41ms/step - loss: 0.0339 - accuracy: 0.9897 - val_loss: 0.0316 - val_accuracy: 0.9898\n",
      "\n",
      "Epoch 00043: val_accuracy improved from 0.97959 to 0.98980, saving model to CheckPoints_Hand_Gesture_Ver_00\n"
     ]
    },
    {
     "name": "stderr",
     "output_type": "stream",
     "text": [
      "WARNING:absl:Found untraced functions such as lstm_cell_1_layer_call_and_return_conditional_losses, lstm_cell_1_layer_call_fn, lstm_cell_2_layer_call_and_return_conditional_losses, lstm_cell_2_layer_call_fn, lstm_cell_4_layer_call_and_return_conditional_losses while saving (showing 5 of 30). These functions will not be directly callable after loading.\n"
     ]
    },
    {
     "name": "stdout",
     "output_type": "stream",
     "text": [
      "INFO:tensorflow:Assets written to: CheckPoints_Hand_Gesture_Ver_00\\assets\n"
     ]
    },
    {
     "name": "stderr",
     "output_type": "stream",
     "text": [
      "INFO:tensorflow:Assets written to: CheckPoints_Hand_Gesture_Ver_00\\assets\n"
     ]
    },
    {
     "name": "stdout",
     "output_type": "stream",
     "text": [
      "Epoch 44/2000\n",
      "10/10 [==============================] - 0s 42ms/step - loss: 0.0228 - accuracy: 0.9966 - val_loss: 0.0231 - val_accuracy: 1.0000\n",
      "\n",
      "Epoch 00044: val_accuracy improved from 0.98980 to 1.00000, saving model to CheckPoints_Hand_Gesture_Ver_00\n"
     ]
    },
    {
     "name": "stderr",
     "output_type": "stream",
     "text": [
      "WARNING:absl:Found untraced functions such as lstm_cell_1_layer_call_and_return_conditional_losses, lstm_cell_1_layer_call_fn, lstm_cell_2_layer_call_and_return_conditional_losses, lstm_cell_2_layer_call_fn, lstm_cell_4_layer_call_and_return_conditional_losses while saving (showing 5 of 30). These functions will not be directly callable after loading.\n"
     ]
    },
    {
     "name": "stdout",
     "output_type": "stream",
     "text": [
      "INFO:tensorflow:Assets written to: CheckPoints_Hand_Gesture_Ver_00\\assets\n"
     ]
    },
    {
     "name": "stderr",
     "output_type": "stream",
     "text": [
      "INFO:tensorflow:Assets written to: CheckPoints_Hand_Gesture_Ver_00\\assets\n"
     ]
    },
    {
     "name": "stdout",
     "output_type": "stream",
     "text": [
      "Epoch 45/2000\n",
      "10/10 [==============================] - 0s 43ms/step - loss: 0.0120 - accuracy: 1.0000 - val_loss: 0.0179 - val_accuracy: 1.0000\n",
      "\n",
      "Epoch 00045: val_accuracy did not improve from 1.00000\n",
      "Epoch 46/2000\n",
      "10/10 [==============================] - 0s 42ms/step - loss: 0.0105 - accuracy: 0.9966 - val_loss: 0.0130 - val_accuracy: 1.0000\n",
      "\n",
      "Epoch 00046: val_accuracy did not improve from 1.00000\n",
      "Epoch 47/2000\n",
      "10/10 [==============================] - 0s 41ms/step - loss: 0.0092 - accuracy: 1.0000 - val_loss: 0.0118 - val_accuracy: 1.0000\n",
      "\n",
      "Epoch 00047: val_accuracy did not improve from 1.00000\n",
      "Epoch 48/2000\n",
      "10/10 [==============================] - 0s 42ms/step - loss: 0.0062 - accuracy: 1.0000 - val_loss: 0.0086 - val_accuracy: 1.0000\n",
      "\n",
      "Epoch 00048: val_accuracy did not improve from 1.00000\n",
      "Epoch 49/2000\n",
      "10/10 [==============================] - 0s 42ms/step - loss: 0.0047 - accuracy: 1.0000 - val_loss: 0.0068 - val_accuracy: 1.0000\n",
      "\n",
      "Epoch 00049: val_accuracy did not improve from 1.00000\n",
      "Epoch 50/2000\n",
      "10/10 [==============================] - 0s 41ms/step - loss: 0.0037 - accuracy: 1.0000 - val_loss: 0.0056 - val_accuracy: 1.0000\n",
      "\n",
      "Epoch 00050: val_accuracy did not improve from 1.00000\n",
      "Epoch 51/2000\n",
      "10/10 [==============================] - 0s 39ms/step - loss: 0.0031 - accuracy: 1.0000 - val_loss: 0.0045 - val_accuracy: 1.0000\n",
      "\n",
      "Epoch 00051: val_accuracy did not improve from 1.00000\n",
      "Epoch 52/2000\n",
      "10/10 [==============================] - 0s 42ms/step - loss: 0.0026 - accuracy: 1.0000 - val_loss: 0.0038 - val_accuracy: 1.0000\n",
      "\n",
      "Epoch 00052: val_accuracy did not improve from 1.00000\n",
      "Epoch 53/2000\n",
      "10/10 [==============================] - 0s 43ms/step - loss: 0.0022 - accuracy: 1.0000 - val_loss: 0.0033 - val_accuracy: 1.0000\n",
      "\n",
      "Epoch 00053: val_accuracy did not improve from 1.00000\n",
      "Epoch 54/2000\n",
      "10/10 [==============================] - 0s 40ms/step - loss: 0.0019 - accuracy: 1.0000 - val_loss: 0.0029 - val_accuracy: 1.0000\n",
      "\n",
      "Epoch 00054: val_accuracy did not improve from 1.00000\n",
      "Epoch 55/2000\n",
      "10/10 [==============================] - 0s 43ms/step - loss: 0.0017 - accuracy: 1.0000 - val_loss: 0.0026 - val_accuracy: 1.0000\n",
      "\n",
      "Epoch 00055: val_accuracy did not improve from 1.00000\n",
      "Epoch 56/2000\n",
      "10/10 [==============================] - 0s 45ms/step - loss: 0.0015 - accuracy: 1.0000 - val_loss: 0.0023 - val_accuracy: 1.0000\n",
      "\n",
      "Epoch 00056: val_accuracy did not improve from 1.00000\n",
      "Epoch 57/2000\n",
      "10/10 [==============================] - 0s 44ms/step - loss: 0.0014 - accuracy: 1.0000 - val_loss: 0.0020 - val_accuracy: 1.0000\n",
      "\n",
      "Epoch 00057: val_accuracy did not improve from 1.00000\n",
      "Epoch 58/2000\n",
      "10/10 [==============================] - 0s 43ms/step - loss: 0.0012 - accuracy: 1.0000 - val_loss: 0.0019 - val_accuracy: 1.0000\n",
      "\n",
      "Epoch 00058: val_accuracy did not improve from 1.00000\n",
      "Epoch 59/2000\n",
      "10/10 [==============================] - 0s 40ms/step - loss: 0.0011 - accuracy: 1.0000 - val_loss: 0.0017 - val_accuracy: 1.0000\n",
      "\n",
      "Epoch 00059: val_accuracy did not improve from 1.00000\n",
      "Epoch 60/2000\n",
      "10/10 [==============================] - 0s 40ms/step - loss: 0.0010 - accuracy: 1.0000 - val_loss: 0.0016 - val_accuracy: 1.0000\n",
      "\n",
      "Epoch 00060: val_accuracy did not improve from 1.00000\n",
      "Epoch 61/2000\n",
      "10/10 [==============================] - 0s 43ms/step - loss: 9.6202e-04 - accuracy: 1.0000 - val_loss: 0.0015 - val_accuracy: 1.0000\n",
      "\n",
      "Epoch 00061: val_accuracy did not improve from 1.00000\n",
      "Epoch 62/2000\n",
      "10/10 [==============================] - 0s 41ms/step - loss: 8.9064e-04 - accuracy: 1.0000 - val_loss: 0.0013 - val_accuracy: 1.0000\n",
      "\n",
      "Epoch 00062: val_accuracy did not improve from 1.00000\n",
      "Epoch 63/2000\n",
      "10/10 [==============================] - 0s 41ms/step - loss: 8.2291e-04 - accuracy: 1.0000 - val_loss: 0.0013 - val_accuracy: 1.0000\n",
      "\n",
      "Epoch 00063: val_accuracy did not improve from 1.00000\n",
      "Epoch 64/2000\n",
      "10/10 [==============================] - 0s 42ms/step - loss: 7.7714e-04 - accuracy: 1.0000 - val_loss: 0.0011 - val_accuracy: 1.0000\n",
      "\n",
      "Epoch 00064: val_accuracy did not improve from 1.00000\n",
      "Epoch 65/2000\n",
      "10/10 [==============================] - 0s 43ms/step - loss: 7.1956e-04 - accuracy: 1.0000 - val_loss: 0.0011 - val_accuracy: 1.0000\n",
      "\n",
      "Epoch 00065: val_accuracy did not improve from 1.00000\n",
      "Epoch 66/2000\n",
      "10/10 [==============================] - 0s 43ms/step - loss: 6.7171e-04 - accuracy: 1.0000 - val_loss: 9.9315e-04 - val_accuracy: 1.0000\n",
      "\n",
      "Epoch 00066: val_accuracy did not improve from 1.00000\n",
      "Epoch 67/2000\n",
      "10/10 [==============================] - 0s 42ms/step - loss: 6.3440e-04 - accuracy: 1.0000 - val_loss: 9.2510e-04 - val_accuracy: 1.0000\n",
      "\n",
      "Epoch 00067: val_accuracy did not improve from 1.00000\n",
      "Epoch 68/2000\n",
      "10/10 [==============================] - 0s 42ms/step - loss: 5.9452e-04 - accuracy: 1.0000 - val_loss: 8.8794e-04 - val_accuracy: 1.0000\n",
      "\n",
      "Epoch 00068: val_accuracy did not improve from 1.00000\n",
      "Epoch 69/2000\n",
      "10/10 [==============================] - 0s 43ms/step - loss: 5.6366e-04 - accuracy: 1.0000 - val_loss: 8.2888e-04 - val_accuracy: 1.0000\n",
      "\n",
      "Epoch 00069: val_accuracy did not improve from 1.00000\n",
      "Epoch 70/2000\n",
      "10/10 [==============================] - 0s 41ms/step - loss: 5.3337e-04 - accuracy: 1.0000 - val_loss: 7.8085e-04 - val_accuracy: 1.0000\n",
      "\n",
      "Epoch 00070: val_accuracy did not improve from 1.00000\n",
      "Epoch 71/2000\n",
      "10/10 [==============================] - 0s 43ms/step - loss: 5.0668e-04 - accuracy: 1.0000 - val_loss: 7.4026e-04 - val_accuracy: 1.0000\n",
      "\n",
      "Epoch 00071: val_accuracy did not improve from 1.00000\n",
      "Epoch 72/2000\n",
      "10/10 [==============================] - 0s 43ms/step - loss: 4.8384e-04 - accuracy: 1.0000 - val_loss: 7.0405e-04 - val_accuracy: 1.0000\n",
      "\n",
      "Epoch 00072: val_accuracy did not improve from 1.00000\n",
      "Epoch 73/2000\n",
      "10/10 [==============================] - 0s 42ms/step - loss: 4.6091e-04 - accuracy: 1.0000 - val_loss: 6.7255e-04 - val_accuracy: 1.0000\n",
      "\n",
      "Epoch 00073: val_accuracy did not improve from 1.00000\n",
      "Epoch 74/2000\n",
      "10/10 [==============================] - 0s 45ms/step - loss: 4.4084e-04 - accuracy: 1.0000 - val_loss: 6.4374e-04 - val_accuracy: 1.0000\n",
      "\n",
      "Epoch 00074: val_accuracy did not improve from 1.00000\n",
      "Epoch 75/2000\n",
      "10/10 [==============================] - 0s 42ms/step - loss: 4.2211e-04 - accuracy: 1.0000 - val_loss: 6.1681e-04 - val_accuracy: 1.0000\n",
      "\n",
      "Epoch 00075: val_accuracy did not improve from 1.00000\n",
      "Epoch 76/2000\n",
      "10/10 [==============================] - 0s 42ms/step - loss: 4.0484e-04 - accuracy: 1.0000 - val_loss: 5.9214e-04 - val_accuracy: 1.0000\n",
      "\n",
      "Epoch 00076: val_accuracy did not improve from 1.00000\n",
      "Epoch 77/2000\n",
      "10/10 [==============================] - 0s 42ms/step - loss: 3.8866e-04 - accuracy: 1.0000 - val_loss: 5.6560e-04 - val_accuracy: 1.0000\n",
      "\n",
      "Epoch 00077: val_accuracy did not improve from 1.00000\n",
      "Epoch 78/2000\n",
      "10/10 [==============================] - 0s 40ms/step - loss: 3.7336e-04 - accuracy: 1.0000 - val_loss: 5.4555e-04 - val_accuracy: 1.0000\n",
      "\n",
      "Epoch 00078: val_accuracy did not improve from 1.00000\n",
      "Epoch 79/2000\n",
      "10/10 [==============================] - 0s 41ms/step - loss: 3.5975e-04 - accuracy: 1.0000 - val_loss: 5.2469e-04 - val_accuracy: 1.0000\n",
      "\n",
      "Epoch 00079: val_accuracy did not improve from 1.00000\n",
      "Epoch 80/2000\n",
      "10/10 [==============================] - 0s 43ms/step - loss: 3.4676e-04 - accuracy: 1.0000 - val_loss: 5.0368e-04 - val_accuracy: 1.0000\n",
      "\n",
      "Epoch 00080: val_accuracy did not improve from 1.00000\n",
      "Epoch 81/2000\n",
      "10/10 [==============================] - 0s 40ms/step - loss: 3.3333e-04 - accuracy: 1.0000 - val_loss: 4.8990e-04 - val_accuracy: 1.0000\n",
      "\n",
      "Epoch 00081: val_accuracy did not improve from 1.00000\n",
      "Epoch 82/2000\n",
      "10/10 [==============================] - 0s 42ms/step - loss: 3.2246e-04 - accuracy: 1.0000 - val_loss: 4.7290e-04 - val_accuracy: 1.0000\n",
      "\n",
      "Epoch 00082: val_accuracy did not improve from 1.00000\n",
      "Epoch 83/2000\n",
      "10/10 [==============================] - 0s 42ms/step - loss: 3.1188e-04 - accuracy: 1.0000 - val_loss: 4.5597e-04 - val_accuracy: 1.0000\n",
      "\n",
      "Epoch 00083: val_accuracy did not improve from 1.00000\n",
      "Epoch 84/2000\n",
      "10/10 [==============================] - 0s 42ms/step - loss: 3.0094e-04 - accuracy: 1.0000 - val_loss: 4.4185e-04 - val_accuracy: 1.0000\n",
      "\n",
      "Epoch 00084: val_accuracy did not improve from 1.00000\n",
      "Epoch 85/2000\n"
     ]
    },
    {
     "name": "stdout",
     "output_type": "stream",
     "text": [
      "10/10 [==============================] - 0s 42ms/step - loss: 2.9148e-04 - accuracy: 1.0000 - val_loss: 4.2189e-04 - val_accuracy: 1.0000\n",
      "\n",
      "Epoch 00085: val_accuracy did not improve from 1.00000\n",
      "Epoch 86/2000\n",
      "10/10 [==============================] - 0s 43ms/step - loss: 2.8073e-04 - accuracy: 1.0000 - val_loss: 3.7538e-04 - val_accuracy: 1.0000\n",
      "\n",
      "Epoch 00086: val_accuracy did not improve from 1.00000\n",
      "Epoch 87/2000\n",
      "10/10 [==============================] - 0s 42ms/step - loss: 2.7194e-04 - accuracy: 1.0000 - val_loss: 3.5864e-04 - val_accuracy: 1.0000\n",
      "\n",
      "Epoch 00087: val_accuracy did not improve from 1.00000\n",
      "Epoch 88/2000\n",
      "10/10 [==============================] - 0s 41ms/step - loss: 2.6130e-04 - accuracy: 1.0000 - val_loss: 3.4925e-04 - val_accuracy: 1.0000\n",
      "\n",
      "Epoch 00088: val_accuracy did not improve from 1.00000\n",
      "Epoch 89/2000\n",
      "10/10 [==============================] - 0s 43ms/step - loss: 2.5341e-04 - accuracy: 1.0000 - val_loss: 3.3956e-04 - val_accuracy: 1.0000\n",
      "\n",
      "Epoch 00089: val_accuracy did not improve from 1.00000\n",
      "Epoch 90/2000\n",
      "10/10 [==============================] - 0s 42ms/step - loss: 2.4571e-04 - accuracy: 1.0000 - val_loss: 3.1883e-04 - val_accuracy: 1.0000\n",
      "\n",
      "Epoch 00090: val_accuracy did not improve from 1.00000\n",
      "Epoch 91/2000\n",
      "10/10 [==============================] - 0s 42ms/step - loss: 2.3662e-04 - accuracy: 1.0000 - val_loss: 3.0886e-04 - val_accuracy: 1.0000\n",
      "\n",
      "Epoch 00091: val_accuracy did not improve from 1.00000\n",
      "Epoch 92/2000\n",
      "10/10 [==============================] - 0s 41ms/step - loss: 2.3005e-04 - accuracy: 1.0000 - val_loss: 3.0076e-04 - val_accuracy: 1.0000\n",
      "\n",
      "Epoch 00092: val_accuracy did not improve from 1.00000\n",
      "Epoch 93/2000\n",
      "10/10 [==============================] - 0s 43ms/step - loss: 2.2287e-04 - accuracy: 1.0000 - val_loss: 2.9805e-04 - val_accuracy: 1.0000\n",
      "\n",
      "Epoch 00093: val_accuracy did not improve from 1.00000\n",
      "Epoch 94/2000\n",
      "10/10 [==============================] - 0s 41ms/step - loss: 2.1641e-04 - accuracy: 1.0000 - val_loss: 2.9316e-04 - val_accuracy: 1.0000\n",
      "\n",
      "Epoch 00094: val_accuracy did not improve from 1.00000\n",
      "Epoch 95/2000\n",
      "10/10 [==============================] - 0s 43ms/step - loss: 2.1044e-04 - accuracy: 1.0000 - val_loss: 2.8779e-04 - val_accuracy: 1.0000\n",
      "\n",
      "Epoch 00095: val_accuracy did not improve from 1.00000\n",
      "Epoch 96/2000\n",
      "10/10 [==============================] - 0s 42ms/step - loss: 2.0531e-04 - accuracy: 1.0000 - val_loss: 2.8114e-04 - val_accuracy: 1.0000\n",
      "\n",
      "Epoch 00096: val_accuracy did not improve from 1.00000\n",
      "Epoch 97/2000\n",
      "10/10 [==============================] - 0s 42ms/step - loss: 1.9977e-04 - accuracy: 1.0000 - val_loss: 2.7443e-04 - val_accuracy: 1.0000\n",
      "\n",
      "Epoch 00097: val_accuracy did not improve from 1.00000\n",
      "Epoch 98/2000\n",
      "10/10 [==============================] - 0s 41ms/step - loss: 1.9424e-04 - accuracy: 1.0000 - val_loss: 2.6919e-04 - val_accuracy: 1.0000\n",
      "\n",
      "Epoch 00098: val_accuracy did not improve from 1.00000\n",
      "Epoch 99/2000\n",
      "10/10 [==============================] - 0s 42ms/step - loss: 1.8926e-04 - accuracy: 1.0000 - val_loss: 2.6381e-04 - val_accuracy: 1.0000\n",
      "\n",
      "Epoch 00099: val_accuracy did not improve from 1.00000\n",
      "Epoch 100/2000\n",
      "10/10 [==============================] - 0s 41ms/step - loss: 1.8432e-04 - accuracy: 1.0000 - val_loss: 2.5892e-04 - val_accuracy: 1.0000\n",
      "\n",
      "Epoch 00100: val_accuracy did not improve from 1.00000\n",
      "Epoch 101/2000\n",
      "10/10 [==============================] - 0s 42ms/step - loss: 1.7980e-04 - accuracy: 1.0000 - val_loss: 2.5380e-04 - val_accuracy: 1.0000\n",
      "\n",
      "Epoch 00101: val_accuracy did not improve from 1.00000\n",
      "Epoch 102/2000\n",
      "10/10 [==============================] - 0s 43ms/step - loss: 1.7530e-04 - accuracy: 1.0000 - val_loss: 2.4898e-04 - val_accuracy: 1.0000\n",
      "\n",
      "Epoch 00102: val_accuracy did not improve from 1.00000\n",
      "Epoch 103/2000\n",
      "10/10 [==============================] - 0s 42ms/step - loss: 1.7097e-04 - accuracy: 1.0000 - val_loss: 2.4421e-04 - val_accuracy: 1.0000\n",
      "\n",
      "Epoch 00103: val_accuracy did not improve from 1.00000\n",
      "Epoch 104/2000\n",
      "10/10 [==============================] - 0s 42ms/step - loss: 1.6679e-04 - accuracy: 1.0000 - val_loss: 2.3982e-04 - val_accuracy: 1.0000\n",
      "\n",
      "Epoch 00104: val_accuracy did not improve from 1.00000\n",
      "Epoch 105/2000\n",
      "10/10 [==============================] - 0s 40ms/step - loss: 1.6286e-04 - accuracy: 1.0000 - val_loss: 2.3554e-04 - val_accuracy: 1.0000\n",
      "\n",
      "Epoch 00105: val_accuracy did not improve from 1.00000\n",
      "Epoch 106/2000\n",
      "10/10 [==============================] - 0s 43ms/step - loss: 1.5919e-04 - accuracy: 1.0000 - val_loss: 2.3038e-04 - val_accuracy: 1.0000\n",
      "\n",
      "Epoch 00106: val_accuracy did not improve from 1.00000\n",
      "Epoch 107/2000\n",
      "10/10 [==============================] - 0s 41ms/step - loss: 1.5545e-04 - accuracy: 1.0000 - val_loss: 2.2587e-04 - val_accuracy: 1.0000\n",
      "\n",
      "Epoch 00107: val_accuracy did not improve from 1.00000\n",
      "Epoch 108/2000\n",
      "10/10 [==============================] - 0s 43ms/step - loss: 1.5186e-04 - accuracy: 1.0000 - val_loss: 2.2157e-04 - val_accuracy: 1.0000\n",
      "\n",
      "Epoch 00108: val_accuracy did not improve from 1.00000\n",
      "Epoch 109/2000\n",
      "10/10 [==============================] - 0s 43ms/step - loss: 1.4836e-04 - accuracy: 1.0000 - val_loss: 2.1814e-04 - val_accuracy: 1.0000\n",
      "\n",
      "Epoch 00109: val_accuracy did not improve from 1.00000\n",
      "Epoch 110/2000\n",
      "10/10 [==============================] - 0s 43ms/step - loss: 1.4512e-04 - accuracy: 1.0000 - val_loss: 2.1466e-04 - val_accuracy: 1.0000\n",
      "\n",
      "Epoch 00110: val_accuracy did not improve from 1.00000\n",
      "Epoch 111/2000\n",
      "10/10 [==============================] - 0s 41ms/step - loss: 1.4186e-04 - accuracy: 1.0000 - val_loss: 2.0782e-04 - val_accuracy: 1.0000\n",
      "\n",
      "Epoch 00111: val_accuracy did not improve from 1.00000\n",
      "Epoch 112/2000\n",
      "10/10 [==============================] - 0s 42ms/step - loss: 1.3882e-04 - accuracy: 1.0000 - val_loss: 2.0302e-04 - val_accuracy: 1.0000\n",
      "\n",
      "Epoch 00112: val_accuracy did not improve from 1.00000\n",
      "Epoch 113/2000\n",
      "10/10 [==============================] - 0s 44ms/step - loss: 1.3577e-04 - accuracy: 1.0000 - val_loss: 1.9915e-04 - val_accuracy: 1.0000\n",
      "\n",
      "Epoch 00113: val_accuracy did not improve from 1.00000\n",
      "Epoch 114/2000\n",
      "10/10 [==============================] - 0s 43ms/step - loss: 1.3316e-04 - accuracy: 1.0000 - val_loss: 1.9585e-04 - val_accuracy: 1.0000\n",
      "\n",
      "Epoch 00114: val_accuracy did not improve from 1.00000\n",
      "Epoch 115/2000\n",
      "10/10 [==============================] - 0s 44ms/step - loss: 1.3010e-04 - accuracy: 1.0000 - val_loss: 1.9300e-04 - val_accuracy: 1.0000\n",
      "\n",
      "Epoch 00115: val_accuracy did not improve from 1.00000\n",
      "Epoch 116/2000\n",
      "10/10 [==============================] - 0s 43ms/step - loss: 1.2741e-04 - accuracy: 1.0000 - val_loss: 1.9016e-04 - val_accuracy: 1.0000\n",
      "\n",
      "Epoch 00116: val_accuracy did not improve from 1.00000\n",
      "Epoch 117/2000\n",
      "10/10 [==============================] - 0s 42ms/step - loss: 1.2485e-04 - accuracy: 1.0000 - val_loss: 1.8784e-04 - val_accuracy: 1.0000\n",
      "\n",
      "Epoch 00117: val_accuracy did not improve from 1.00000\n",
      "Epoch 118/2000\n",
      "10/10 [==============================] - 0s 42ms/step - loss: 1.2242e-04 - accuracy: 1.0000 - val_loss: 1.8558e-04 - val_accuracy: 1.0000\n",
      "\n",
      "Epoch 00118: val_accuracy did not improve from 1.00000\n",
      "Epoch 119/2000\n",
      "10/10 [==============================] - 0s 41ms/step - loss: 1.2003e-04 - accuracy: 1.0000 - val_loss: 1.8294e-04 - val_accuracy: 1.0000\n",
      "\n",
      "Epoch 00119: val_accuracy did not improve from 1.00000\n",
      "Epoch 120/2000\n",
      "10/10 [==============================] - 0s 42ms/step - loss: 1.1733e-04 - accuracy: 1.0000 - val_loss: 1.7990e-04 - val_accuracy: 1.0000\n",
      "\n",
      "Epoch 00120: val_accuracy did not improve from 1.00000\n",
      "Epoch 121/2000\n",
      " 9/10 [==========================>...] - ETA: 0s - loss: 1.1390e-04 - accuracy: 1.0000"
     ]
    },
    {
     "ename": "KeyboardInterrupt",
     "evalue": "",
     "output_type": "error",
     "traceback": [
      "\u001b[1;31m---------------------------------------------------------------------------\u001b[0m",
      "\u001b[1;31mKeyboardInterrupt\u001b[0m                         Traceback (most recent call last)",
      "\u001b[1;32m~\\AppData\\Local\\Temp/ipykernel_7716/3326348525.py\u001b[0m in \u001b[0;36m<module>\u001b[1;34m\u001b[0m\n\u001b[1;32m----> 1\u001b[1;33m model.fit(  X_train, y_train, \n\u001b[0m\u001b[0;32m      2\u001b[0m             \u001b[0mvalidation_data\u001b[0m\u001b[1;33m=\u001b[0m\u001b[1;33m(\u001b[0m\u001b[0mX_test\u001b[0m \u001b[1;33m,\u001b[0m \u001b[0my_test\u001b[0m\u001b[1;33m)\u001b[0m\u001b[1;33m,\u001b[0m\u001b[1;33m\u001b[0m\u001b[1;33m\u001b[0m\u001b[0m\n\u001b[0;32m      3\u001b[0m             \u001b[0mepochs\u001b[0m\u001b[1;33m=\u001b[0m\u001b[1;36m2000\u001b[0m\u001b[1;33m,\u001b[0m\u001b[1;33m\u001b[0m\u001b[1;33m\u001b[0m\u001b[0m\n\u001b[0;32m      4\u001b[0m             \u001b[0mcallbacks\u001b[0m\u001b[1;33m=\u001b[0m\u001b[1;33m[\u001b[0m\u001b[0mcp\u001b[0m \u001b[1;33m,\u001b[0m \u001b[0mtb_callback\u001b[0m\u001b[1;33m]\u001b[0m\u001b[1;33m\u001b[0m\u001b[1;33m\u001b[0m\u001b[0m\n\u001b[0;32m      5\u001b[0m          )\n",
      "\u001b[1;32m~\\anaconda3\\envs\\TF.2.5.0-GPU\\lib\\site-packages\\tensorflow\\python\\keras\\engine\\training.py\u001b[0m in \u001b[0;36mfit\u001b[1;34m(self, x, y, batch_size, epochs, verbose, callbacks, validation_split, validation_data, shuffle, class_weight, sample_weight, initial_epoch, steps_per_epoch, validation_steps, validation_batch_size, validation_freq, max_queue_size, workers, use_multiprocessing)\u001b[0m\n\u001b[0;32m   1212\u001b[0m                 \u001b[0mmodel\u001b[0m\u001b[1;33m=\u001b[0m\u001b[0mself\u001b[0m\u001b[1;33m,\u001b[0m\u001b[1;33m\u001b[0m\u001b[1;33m\u001b[0m\u001b[0m\n\u001b[0;32m   1213\u001b[0m                 steps_per_execution=self._steps_per_execution)\n\u001b[1;32m-> 1214\u001b[1;33m           val_logs = self.evaluate(\n\u001b[0m\u001b[0;32m   1215\u001b[0m               \u001b[0mx\u001b[0m\u001b[1;33m=\u001b[0m\u001b[0mval_x\u001b[0m\u001b[1;33m,\u001b[0m\u001b[1;33m\u001b[0m\u001b[1;33m\u001b[0m\u001b[0m\n\u001b[0;32m   1216\u001b[0m               \u001b[0my\u001b[0m\u001b[1;33m=\u001b[0m\u001b[0mval_y\u001b[0m\u001b[1;33m,\u001b[0m\u001b[1;33m\u001b[0m\u001b[1;33m\u001b[0m\u001b[0m\n",
      "\u001b[1;32m~\\anaconda3\\envs\\TF.2.5.0-GPU\\lib\\site-packages\\tensorflow\\python\\keras\\engine\\training.py\u001b[0m in \u001b[0;36mevaluate\u001b[1;34m(self, x, y, batch_size, verbose, sample_weight, steps, callbacks, max_queue_size, workers, use_multiprocessing, return_dict, **kwargs)\u001b[0m\n\u001b[0;32m   1487\u001b[0m             \u001b[1;32mwith\u001b[0m \u001b[0mtrace\u001b[0m\u001b[1;33m.\u001b[0m\u001b[0mTrace\u001b[0m\u001b[1;33m(\u001b[0m\u001b[1;34m'test'\u001b[0m\u001b[1;33m,\u001b[0m \u001b[0mstep_num\u001b[0m\u001b[1;33m=\u001b[0m\u001b[0mstep\u001b[0m\u001b[1;33m,\u001b[0m \u001b[0m_r\u001b[0m\u001b[1;33m=\u001b[0m\u001b[1;36m1\u001b[0m\u001b[1;33m)\u001b[0m\u001b[1;33m:\u001b[0m\u001b[1;33m\u001b[0m\u001b[1;33m\u001b[0m\u001b[0m\n\u001b[0;32m   1488\u001b[0m               \u001b[0mcallbacks\u001b[0m\u001b[1;33m.\u001b[0m\u001b[0mon_test_batch_begin\u001b[0m\u001b[1;33m(\u001b[0m\u001b[0mstep\u001b[0m\u001b[1;33m)\u001b[0m\u001b[1;33m\u001b[0m\u001b[1;33m\u001b[0m\u001b[0m\n\u001b[1;32m-> 1489\u001b[1;33m               \u001b[0mtmp_logs\u001b[0m \u001b[1;33m=\u001b[0m \u001b[0mself\u001b[0m\u001b[1;33m.\u001b[0m\u001b[0mtest_function\u001b[0m\u001b[1;33m(\u001b[0m\u001b[0miterator\u001b[0m\u001b[1;33m)\u001b[0m\u001b[1;33m\u001b[0m\u001b[1;33m\u001b[0m\u001b[0m\n\u001b[0m\u001b[0;32m   1490\u001b[0m               \u001b[1;32mif\u001b[0m \u001b[0mdata_handler\u001b[0m\u001b[1;33m.\u001b[0m\u001b[0mshould_sync\u001b[0m\u001b[1;33m:\u001b[0m\u001b[1;33m\u001b[0m\u001b[1;33m\u001b[0m\u001b[0m\n\u001b[0;32m   1491\u001b[0m                 \u001b[0mcontext\u001b[0m\u001b[1;33m.\u001b[0m\u001b[0masync_wait\u001b[0m\u001b[1;33m(\u001b[0m\u001b[1;33m)\u001b[0m\u001b[1;33m\u001b[0m\u001b[1;33m\u001b[0m\u001b[0m\n",
      "\u001b[1;32m~\\anaconda3\\envs\\TF.2.5.0-GPU\\lib\\site-packages\\tensorflow\\python\\eager\\def_function.py\u001b[0m in \u001b[0;36m__call__\u001b[1;34m(self, *args, **kwds)\u001b[0m\n\u001b[0;32m    887\u001b[0m \u001b[1;33m\u001b[0m\u001b[0m\n\u001b[0;32m    888\u001b[0m       \u001b[1;32mwith\u001b[0m \u001b[0mOptionalXlaContext\u001b[0m\u001b[1;33m(\u001b[0m\u001b[0mself\u001b[0m\u001b[1;33m.\u001b[0m\u001b[0m_jit_compile\u001b[0m\u001b[1;33m)\u001b[0m\u001b[1;33m:\u001b[0m\u001b[1;33m\u001b[0m\u001b[1;33m\u001b[0m\u001b[0m\n\u001b[1;32m--> 889\u001b[1;33m         \u001b[0mresult\u001b[0m \u001b[1;33m=\u001b[0m \u001b[0mself\u001b[0m\u001b[1;33m.\u001b[0m\u001b[0m_call\u001b[0m\u001b[1;33m(\u001b[0m\u001b[1;33m*\u001b[0m\u001b[0margs\u001b[0m\u001b[1;33m,\u001b[0m \u001b[1;33m**\u001b[0m\u001b[0mkwds\u001b[0m\u001b[1;33m)\u001b[0m\u001b[1;33m\u001b[0m\u001b[1;33m\u001b[0m\u001b[0m\n\u001b[0m\u001b[0;32m    890\u001b[0m \u001b[1;33m\u001b[0m\u001b[0m\n\u001b[0;32m    891\u001b[0m       \u001b[0mnew_tracing_count\u001b[0m \u001b[1;33m=\u001b[0m \u001b[0mself\u001b[0m\u001b[1;33m.\u001b[0m\u001b[0mexperimental_get_tracing_count\u001b[0m\u001b[1;33m(\u001b[0m\u001b[1;33m)\u001b[0m\u001b[1;33m\u001b[0m\u001b[1;33m\u001b[0m\u001b[0m\n",
      "\u001b[1;32m~\\anaconda3\\envs\\TF.2.5.0-GPU\\lib\\site-packages\\tensorflow\\python\\eager\\def_function.py\u001b[0m in \u001b[0;36m_call\u001b[1;34m(self, *args, **kwds)\u001b[0m\n\u001b[0;32m    922\u001b[0m       \u001b[1;31m# In this case we have not created variables on the first call. So we can\u001b[0m\u001b[1;33m\u001b[0m\u001b[1;33m\u001b[0m\u001b[0m\n\u001b[0;32m    923\u001b[0m       \u001b[1;31m# run the first trace but we should fail if variables are created.\u001b[0m\u001b[1;33m\u001b[0m\u001b[1;33m\u001b[0m\u001b[0m\n\u001b[1;32m--> 924\u001b[1;33m       \u001b[0mresults\u001b[0m \u001b[1;33m=\u001b[0m \u001b[0mself\u001b[0m\u001b[1;33m.\u001b[0m\u001b[0m_stateful_fn\u001b[0m\u001b[1;33m(\u001b[0m\u001b[1;33m*\u001b[0m\u001b[0margs\u001b[0m\u001b[1;33m,\u001b[0m \u001b[1;33m**\u001b[0m\u001b[0mkwds\u001b[0m\u001b[1;33m)\u001b[0m\u001b[1;33m\u001b[0m\u001b[1;33m\u001b[0m\u001b[0m\n\u001b[0m\u001b[0;32m    925\u001b[0m       \u001b[1;32mif\u001b[0m \u001b[0mself\u001b[0m\u001b[1;33m.\u001b[0m\u001b[0m_created_variables\u001b[0m\u001b[1;33m:\u001b[0m\u001b[1;33m\u001b[0m\u001b[1;33m\u001b[0m\u001b[0m\n\u001b[0;32m    926\u001b[0m         raise ValueError(\"Creating variables on a non-first call to a function\"\n",
      "\u001b[1;32m~\\anaconda3\\envs\\TF.2.5.0-GPU\\lib\\site-packages\\tensorflow\\python\\eager\\function.py\u001b[0m in \u001b[0;36m__call__\u001b[1;34m(self, *args, **kwargs)\u001b[0m\n\u001b[0;32m   3021\u001b[0m       (graph_function,\n\u001b[0;32m   3022\u001b[0m        filtered_flat_args) = self._maybe_define_function(args, kwargs)\n\u001b[1;32m-> 3023\u001b[1;33m     return graph_function._call_flat(\n\u001b[0m\u001b[0;32m   3024\u001b[0m         filtered_flat_args, captured_inputs=graph_function.captured_inputs)  # pylint: disable=protected-access\n\u001b[0;32m   3025\u001b[0m \u001b[1;33m\u001b[0m\u001b[0m\n",
      "\u001b[1;32m~\\anaconda3\\envs\\TF.2.5.0-GPU\\lib\\site-packages\\tensorflow\\python\\eager\\function.py\u001b[0m in \u001b[0;36m_call_flat\u001b[1;34m(self, args, captured_inputs, cancellation_manager)\u001b[0m\n\u001b[0;32m   1958\u001b[0m         and executing_eagerly):\n\u001b[0;32m   1959\u001b[0m       \u001b[1;31m# No tape is watching; skip to running the function.\u001b[0m\u001b[1;33m\u001b[0m\u001b[1;33m\u001b[0m\u001b[0m\n\u001b[1;32m-> 1960\u001b[1;33m       return self._build_call_outputs(self._inference_function.call(\n\u001b[0m\u001b[0;32m   1961\u001b[0m           ctx, args, cancellation_manager=cancellation_manager))\n\u001b[0;32m   1962\u001b[0m     forward_backward = self._select_forward_and_backward_functions(\n",
      "\u001b[1;32m~\\anaconda3\\envs\\TF.2.5.0-GPU\\lib\\site-packages\\tensorflow\\python\\eager\\function.py\u001b[0m in \u001b[0;36mcall\u001b[1;34m(self, ctx, args, cancellation_manager)\u001b[0m\n\u001b[0;32m    589\u001b[0m       \u001b[1;32mwith\u001b[0m \u001b[0m_InterpolateFunctionError\u001b[0m\u001b[1;33m(\u001b[0m\u001b[0mself\u001b[0m\u001b[1;33m)\u001b[0m\u001b[1;33m:\u001b[0m\u001b[1;33m\u001b[0m\u001b[1;33m\u001b[0m\u001b[0m\n\u001b[0;32m    590\u001b[0m         \u001b[1;32mif\u001b[0m \u001b[0mcancellation_manager\u001b[0m \u001b[1;32mis\u001b[0m \u001b[1;32mNone\u001b[0m\u001b[1;33m:\u001b[0m\u001b[1;33m\u001b[0m\u001b[1;33m\u001b[0m\u001b[0m\n\u001b[1;32m--> 591\u001b[1;33m           outputs = execute.execute(\n\u001b[0m\u001b[0;32m    592\u001b[0m               \u001b[0mstr\u001b[0m\u001b[1;33m(\u001b[0m\u001b[0mself\u001b[0m\u001b[1;33m.\u001b[0m\u001b[0msignature\u001b[0m\u001b[1;33m.\u001b[0m\u001b[0mname\u001b[0m\u001b[1;33m)\u001b[0m\u001b[1;33m,\u001b[0m\u001b[1;33m\u001b[0m\u001b[1;33m\u001b[0m\u001b[0m\n\u001b[0;32m    593\u001b[0m               \u001b[0mnum_outputs\u001b[0m\u001b[1;33m=\u001b[0m\u001b[0mself\u001b[0m\u001b[1;33m.\u001b[0m\u001b[0m_num_outputs\u001b[0m\u001b[1;33m,\u001b[0m\u001b[1;33m\u001b[0m\u001b[1;33m\u001b[0m\u001b[0m\n",
      "\u001b[1;32m~\\anaconda3\\envs\\TF.2.5.0-GPU\\lib\\site-packages\\tensorflow\\python\\eager\\execute.py\u001b[0m in \u001b[0;36mquick_execute\u001b[1;34m(op_name, num_outputs, inputs, attrs, ctx, name)\u001b[0m\n\u001b[0;32m     57\u001b[0m   \u001b[1;32mtry\u001b[0m\u001b[1;33m:\u001b[0m\u001b[1;33m\u001b[0m\u001b[1;33m\u001b[0m\u001b[0m\n\u001b[0;32m     58\u001b[0m     \u001b[0mctx\u001b[0m\u001b[1;33m.\u001b[0m\u001b[0mensure_initialized\u001b[0m\u001b[1;33m(\u001b[0m\u001b[1;33m)\u001b[0m\u001b[1;33m\u001b[0m\u001b[1;33m\u001b[0m\u001b[0m\n\u001b[1;32m---> 59\u001b[1;33m     tensors = pywrap_tfe.TFE_Py_Execute(ctx._handle, device_name, op_name,\n\u001b[0m\u001b[0;32m     60\u001b[0m                                         inputs, attrs, num_outputs)\n\u001b[0;32m     61\u001b[0m   \u001b[1;32mexcept\u001b[0m \u001b[0mcore\u001b[0m\u001b[1;33m.\u001b[0m\u001b[0m_NotOkStatusException\u001b[0m \u001b[1;32mas\u001b[0m \u001b[0me\u001b[0m\u001b[1;33m:\u001b[0m\u001b[1;33m\u001b[0m\u001b[1;33m\u001b[0m\u001b[0m\n",
      "\u001b[1;31mKeyboardInterrupt\u001b[0m: "
     ]
    }
   ],
   "source": [
    "model.fit(  X_train, y_train, \n",
    "            validation_data=(X_test , y_test),\n",
    "            epochs=2000, \n",
    "            callbacks=[cp , tb_callback]\n",
    "         )"
   ]
  },
  {
   "cell_type": "code",
   "execution_count": null,
   "id": "8d98b9ff",
   "metadata": {},
   "outputs": [],
   "source": []
  }
 ],
 "metadata": {
  "kernelspec": {
   "display_name": "TF.2.5.0-GPU",
   "language": "python",
   "name": "tf.2.5.0-gpu"
  },
  "language_info": {
   "codemirror_mode": {
    "name": "ipython",
    "version": 3
   },
   "file_extension": ".py",
   "mimetype": "text/x-python",
   "name": "python",
   "nbconvert_exporter": "python",
   "pygments_lexer": "ipython3",
   "version": "3.9.7"
  }
 },
 "nbformat": 4,
 "nbformat_minor": 5
}
